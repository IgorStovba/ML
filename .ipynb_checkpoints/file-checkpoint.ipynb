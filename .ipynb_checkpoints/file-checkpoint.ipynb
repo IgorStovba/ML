{
 "cells": [
  {
   "cell_type": "markdown",
   "metadata": {
    "toc": true
   },
   "source": [
    "<h1>Содержание<span class=\"tocSkip\"></span></h1>\n",
    "<div class=\"toc\"><ul class=\"toc-item\"><li><span><a href=\"#Подготовка-данных\" data-toc-modified-id=\"Подготовка-данных-1\"><span class=\"toc-item-num\">1&nbsp;&nbsp;</span>Подготовка данных</a></span></li><li><span><a href=\"#Исследование-задачи\" data-toc-modified-id=\"Исследование-задачи-2\"><span class=\"toc-item-num\">2&nbsp;&nbsp;</span>Исследование задачи</a></span></li><li><span><a href=\"#Борьба-с-дисбалансом\" data-toc-modified-id=\"Борьба-с-дисбалансом-3\"><span class=\"toc-item-num\">3&nbsp;&nbsp;</span>Борьба с дисбалансом</a></span></li><li><span><a href=\"#Тестирование-модели\" data-toc-modified-id=\"Тестирование-модели-4\"><span class=\"toc-item-num\">4&nbsp;&nbsp;</span>Тестирование модели</a></span></li><li><span><a href=\"#Общий-вывод\" data-toc-modified-id=\"Общий-вывод-5\"><span class=\"toc-item-num\">5&nbsp;&nbsp;</span>Общий вывод</a></span></li><li><span><a href=\"#Чек-лист-готовности-проекта\" data-toc-modified-id=\"Чек-лист-готовности-проекта-6\"><span class=\"toc-item-num\">6&nbsp;&nbsp;</span>Чек-лист готовности проекта</a></span></li></ul></div>"
   ]
  },
  {
   "cell_type": "markdown",
   "metadata": {},
   "source": [
    "# Отток клиентов"
   ]
  },
  {
   "cell_type": "markdown",
   "metadata": {},
   "source": [
    "Из «Бета-Банка» стали уходить клиенты. Каждый месяц. Немного, но заметно. Банковские маркетологи посчитали: сохранять текущих клиентов дешевле, чем привлекать новых.\n",
    "\n",
    "Нужно спрогнозировать, уйдёт клиент из банка в ближайшее время или нет. Вам предоставлены исторические данные о поведении клиентов и расторжении договоров с банком. \n",
    "\n",
    "Постройте модель с предельно большим значением *F1*-меры. Чтобы сдать проект успешно, нужно довести метрику до 0.59. Проверьте *F1*-меру на тестовой выборке самостоятельно.\n",
    "\n",
    "Дополнительно измеряйте *AUC-ROC*, сравнивайте её значение с *F1*-мерой.\n",
    "\n",
    "Источник данных: [https://www.kaggle.com/barelydedicated/bank-customer-churn-modeling](https://www.kaggle.com/barelydedicated/bank-customer-churn-modeling)"
   ]
  },
  {
   "cell_type": "markdown",
   "metadata": {},
   "source": [
    "## Подготовка данных"
   ]
  },
  {
   "cell_type": "markdown",
   "metadata": {},
   "source": [
    "Мы имеем задачу бинарной классификации. В исследовании будут использоваться 3 модели ML: дерево решений, случайный лес и логистическая регрессия."
   ]
  },
  {
   "cell_type": "code",
   "execution_count": 5,
   "metadata": {},
   "outputs": [
    {
     "ename": "ModuleNotFoundError",
     "evalue": "No module named 'pandas'",
     "output_type": "error",
     "traceback": [
      "\u001b[0;31m---------------------------------------------------------------------------\u001b[0m",
      "\u001b[0;31mModuleNotFoundError\u001b[0m                       Traceback (most recent call last)",
      "\u001b[0;32m<ipython-input-5-7fd9891bd67c>\u001b[0m in \u001b[0;36m<module>\u001b[0;34m\u001b[0m\n\u001b[0;32m----> 1\u001b[0;31m \u001b[0;32mimport\u001b[0m \u001b[0mpandas\u001b[0m \u001b[0;32mas\u001b[0m \u001b[0mpd\u001b[0m\u001b[0;34m\u001b[0m\u001b[0;34m\u001b[0m\u001b[0m\n\u001b[0m\u001b[1;32m      2\u001b[0m \u001b[0;32mimport\u001b[0m \u001b[0mnumpy\u001b[0m \u001b[0;32mas\u001b[0m \u001b[0mnp\u001b[0m\u001b[0;34m\u001b[0m\u001b[0;34m\u001b[0m\u001b[0m\n\u001b[1;32m      3\u001b[0m \u001b[0;32mfrom\u001b[0m \u001b[0msklearn\u001b[0m\u001b[0;34m.\u001b[0m\u001b[0mmetrics\u001b[0m \u001b[0;32mimport\u001b[0m \u001b[0mf1_score\u001b[0m\u001b[0;34m\u001b[0m\u001b[0;34m\u001b[0m\u001b[0m\n\u001b[1;32m      4\u001b[0m \u001b[0;32mfrom\u001b[0m \u001b[0msklearn\u001b[0m\u001b[0;34m.\u001b[0m\u001b[0mmetrics\u001b[0m \u001b[0;32mimport\u001b[0m \u001b[0mroc_curve\u001b[0m\u001b[0;34m,\u001b[0m\u001b[0mauc\u001b[0m\u001b[0;34m\u001b[0m\u001b[0;34m\u001b[0m\u001b[0m\n\u001b[1;32m      5\u001b[0m \u001b[0;32mfrom\u001b[0m \u001b[0msklearn\u001b[0m\u001b[0;34m.\u001b[0m\u001b[0mmetrics\u001b[0m \u001b[0;32mimport\u001b[0m \u001b[0mroc_auc_score\u001b[0m\u001b[0;34m\u001b[0m\u001b[0;34m\u001b[0m\u001b[0m\n",
      "\u001b[0;31mModuleNotFoundError\u001b[0m: No module named 'pandas'"
     ]
    }
   ],
   "source": [
    "import pandas as pd\n",
    "import numpy as np\n",
    "from sklearn.metrics import f1_score\n",
    "from sklearn.metrics import roc_curve,auc\n",
    "from sklearn.metrics import roc_auc_score\n",
    "from sklearn.metrics import classification_report\n",
    "from sklearn.utils import shuffle\n",
    "from sklearn.model_selection import train_test_split\n",
    "from sklearn.preprocessing import StandardScaler\n",
    "from sklearn.model_selection import RandomizedSearchCV\n",
    "from sklearn.model_selection import GridSearchCV\n",
    "from sklearn.model_selection import PredefinedSplit\n",
    "from sklearn.tree import DecisionTreeClassifier\n",
    "from sklearn.linear_model import LogisticRegression\n",
    "from sklearn.ensemble import RandomForestClassifier\n",
    "import matplotlib.pyplot as plt\n",
    "import seaborn as sns\n",
    "sns.set(style='darkgrid')\n",
    "np.random.seed(0)"
   ]
  },
  {
   "cell_type": "code",
   "execution_count": null,
   "metadata": {},
   "outputs": [],
   "source": [
    "data = pd.read_csv('/datasets/Churn.csv')"
   ]
  },
  {
   "cell_type": "code",
   "execution_count": null,
   "metadata": {},
   "outputs": [],
   "source": [
    "data.sample(5)"
   ]
  },
  {
   "cell_type": "markdown",
   "metadata": {},
   "source": [
    "Целевой признак - Exited. (1 - уход клиента / 0 - клиент остался)"
   ]
  },
  {
   "cell_type": "markdown",
   "metadata": {},
   "source": [
    "Такие признаки как RowNumber (Индекс строки), CustomerId (Уникальный идентификатор) и Surname (Фамилия) не несут абсолютно никакой смысловой нагрузки для обучения модели. Для того, чтобы модель не выявила ложной корреляции, удалим эти признаки."
   ]
  },
  {
   "cell_type": "markdown",
   "metadata": {},
   "source": [
    "Изменения внесем в копию!"
   ]
  },
  {
   "cell_type": "code",
   "execution_count": null,
   "metadata": {},
   "outputs": [],
   "source": [
    "data_new = data.copy(deep=True)\n",
    "data_new = data_new.drop(['RowNumber','CustomerId','Surname'], axis=1)"
   ]
  },
  {
   "cell_type": "code",
   "execution_count": null,
   "metadata": {
    "scrolled": true
   },
   "outputs": [],
   "source": [
    "data_new.info()"
   ]
  },
  {
   "cell_type": "markdown",
   "metadata": {},
   "source": [
    "Здесь видно, что атрибут Tenure (сколько лет человек является клиентом банка) имеет около 10% пропусков."
   ]
  },
  {
   "cell_type": "code",
   "execution_count": null,
   "metadata": {
    "scrolled": true
   },
   "outputs": [],
   "source": [
    "data_new['Tenure'].hist(grid=True,bins=10)\n",
    "data_new['Tenure'].value_counts(normalize=True,sort=True)"
   ]
  },
  {
   "cell_type": "code",
   "execution_count": null,
   "metadata": {},
   "outputs": [],
   "source": [
    "data_new.corr().loc['Tenure']"
   ]
  },
  {
   "cell_type": "markdown",
   "metadata": {},
   "source": [
    "Так как данные атрибута Tenure не имеют значительной корреляции с другими атрибутами и очевидно, что эти данные пропущены не случайно - можно сделать вывод, что они имееют корреляцию с неизвестными нам факторами. Поэтому простое удаление исказит статистические свойства выборки. Заполним случайными значениями пропуски."
   ]
  },
  {
   "cell_type": "code",
   "execution_count": null,
   "metadata": {},
   "outputs": [],
   "source": [
    "import random\n",
    "data_new[\"Tenure\"] = data_new[\"Tenure\"].apply(lambda x: x if not np.isnan(x) else np.random.randint(0,11))"
   ]
  },
  {
   "cell_type": "code",
   "execution_count": null,
   "metadata": {},
   "outputs": [],
   "source": [
    "data_new[\"Tenure\"].isnull().value_counts()"
   ]
  },
  {
   "cell_type": "markdown",
   "metadata": {},
   "source": [
    "Также два признака Geography и Gender являются категориальными. Для правильного обучения логистической регрессии нужно применить прямое кодирование OHE."
   ]
  },
  {
   "cell_type": "code",
   "execution_count": null,
   "metadata": {},
   "outputs": [],
   "source": [
    "data_new[\"Gender\"].value_counts()"
   ]
  },
  {
   "cell_type": "code",
   "execution_count": null,
   "metadata": {},
   "outputs": [],
   "source": [
    "data_new[\"Geography\"].value_counts()"
   ]
  },
  {
   "cell_type": "code",
   "execution_count": null,
   "metadata": {},
   "outputs": [],
   "source": [
    "data_new_ohe = pd.get_dummies(data_new,columns=['Gender','Geography'],drop_first=True)"
   ]
  },
  {
   "cell_type": "code",
   "execution_count": null,
   "metadata": {},
   "outputs": [],
   "source": [
    "data_new_ohe.tail()"
   ]
  },
  {
   "cell_type": "markdown",
   "metadata": {},
   "source": [
    "## Исследование задачи"
   ]
  },
  {
   "cell_type": "markdown",
   "metadata": {},
   "source": [
    "Посмотрим на корреляцию признаков"
   ]
  },
  {
   "cell_type": "code",
   "execution_count": null,
   "metadata": {},
   "outputs": [],
   "source": [
    "fig,ax = plt.subplots(figsize=(10,10))\n",
    "data_corr = round(data_new.corr(),2)\n",
    "corr_plot = sns.heatmap(data_corr, annot=True, cmap='YlGnBu')"
   ]
  },
  {
   "cell_type": "markdown",
   "metadata": {},
   "source": [
    "В общем корелляция очень слабая; со значением 0.4 коррелирует баланс на счете и клиенты из Германии. Но это не большое значение! Также наблюдается небольшая корелляция между балансом счета и количеством продуктов банка"
   ]
  },
  {
   "cell_type": "markdown",
   "metadata": {},
   "source": [
    "В данном иследовании - основная цель - исследовать текущих клиентов на возможность ухода из банка. При оценке качества обученных моделей будем использовать 2 основных метрики: f1-score и ROC AUC. Стоит отметить, что F мера более устойчива к дисбалансу классов, чем ROC AUC."
   ]
  },
  {
   "cell_type": "markdown",
   "metadata": {},
   "source": [
    "## Борьба с дисбалансом"
   ]
  },
  {
   "cell_type": "markdown",
   "metadata": {},
   "source": [
    "В данном разделе проверим данные на дисбаланс классов"
   ]
  },
  {
   "cell_type": "code",
   "execution_count": null,
   "metadata": {
    "scrolled": false
   },
   "outputs": [],
   "source": [
    "count_class_0, count_class_1 = data_new.Exited.value_counts()\n",
    "print(f'0 class {count_class_0}')\n",
    "print(f'1 class {count_class_1}')"
   ]
  },
  {
   "cell_type": "markdown",
   "metadata": {},
   "source": [
    "Для начала разобьем данные на train и test"
   ]
  },
  {
   "cell_type": "code",
   "execution_count": null,
   "metadata": {},
   "outputs": [],
   "source": [
    "df_train, df_test = train_test_split(data_new_ohe,test_size=0.25)\n",
    "feat_test = df_test.drop(columns=['Exited'],axis=1)\n",
    "target_test = df_test['Exited']"
   ]
  },
  {
   "cell_type": "markdown",
   "metadata": {},
   "source": [
    "Проверим дисбаланс в тестовом и тренировочном датафреймах"
   ]
  },
  {
   "cell_type": "code",
   "execution_count": null,
   "metadata": {
    "scrolled": true
   },
   "outputs": [],
   "source": [
    "count_class_0, count_class_1 = df_test.Exited.value_counts()\n",
    "print('TEST DF')\n",
    "print(f'0 class {count_class_0}')\n",
    "print(f'1 class {count_class_1}')"
   ]
  },
  {
   "cell_type": "markdown",
   "metadata": {},
   "source": [
    "Дисбаланс классов в тестовых данных есть, их оставляем!"
   ]
  },
  {
   "cell_type": "code",
   "execution_count": null,
   "metadata": {},
   "outputs": [],
   "source": [
    "count_class_0, count_class_1 = df_train.Exited.value_counts()\n",
    "print('TRAIN DF')\n",
    "print(f'0 class {count_class_0}')\n",
    "print(f'1 class {count_class_1}')"
   ]
  },
  {
   "cell_type": "markdown",
   "metadata": {},
   "source": [
    "Исправим дисбаланс классов в тренировочных данных"
   ]
  },
  {
   "cell_type": "code",
   "execution_count": null,
   "metadata": {
    "scrolled": true
   },
   "outputs": [],
   "source": [
    "data_class_0 = df_train.query('Exited == 0')\n",
    "data_class_1 = df_train.query('Exited == 1')\n",
    "data_class_0.shape, data_class_1.shape"
   ]
  },
  {
   "cell_type": "code",
   "execution_count": null,
   "metadata": {},
   "outputs": [],
   "source": [
    "data_class_0_under = data_class_0.sample(count_class_1)"
   ]
  },
  {
   "cell_type": "code",
   "execution_count": null,
   "metadata": {},
   "outputs": [],
   "source": [
    "data_class_0_under.shape"
   ]
  },
  {
   "cell_type": "code",
   "execution_count": null,
   "metadata": {},
   "outputs": [],
   "source": [
    "data_train = pd.concat([data_class_1, data_class_0_under],axis=0)\n",
    "data_train = shuffle(data_train)\n",
    "feat_train = data_train.drop(columns=['Exited'],axis=1)\n",
    "target_train = data_train['Exited']"
   ]
  },
  {
   "cell_type": "code",
   "execution_count": null,
   "metadata": {},
   "outputs": [],
   "source": [
    "target_train.value_counts(normalize=True)"
   ]
  },
  {
   "cell_type": "markdown",
   "metadata": {},
   "source": [
    "Нужно стандартизировать данные!"
   ]
  },
  {
   "cell_type": "code",
   "execution_count": null,
   "metadata": {},
   "outputs": [],
   "source": [
    "cols_to_scale = ['CreditScore','Age','Tenure','Balance','NumOfProducts','EstimatedSalary']\n",
    "scaler = StandardScaler()\n",
    "scaler.fit(feat_train[cols_to_scale])\n",
    "feat_train[cols_to_scale] = scaler.transform(feat_train[cols_to_scale])\n",
    "feat_test[cols_to_scale] = scaler.transform(feat_test[cols_to_scale])"
   ]
  },
  {
   "cell_type": "code",
   "execution_count": null,
   "metadata": {
    "scrolled": true
   },
   "outputs": [],
   "source": [
    "pd.set_option('display.float_format', lambda x: '%0.4f' % x)\n",
    "feat_train.describe().loc[['mean','std','max']]"
   ]
  },
  {
   "cell_type": "markdown",
   "metadata": {},
   "source": [
    "## Тестирование модели"
   ]
  },
  {
   "cell_type": "markdown",
   "metadata": {},
   "source": [
    "`Дерево решений`"
   ]
  },
  {
   "cell_type": "code",
   "execution_count": null,
   "metadata": {},
   "outputs": [],
   "source": [
    "params = {'max_depth':range(2,20),\n",
    "         'criterion':['gini','entropy']}\n",
    "DTC_model = GridSearchCV(DecisionTreeClassifier(),\n",
    "                         param_grid=params,\n",
    "                        cv = 5,\n",
    "                        n_jobs=-1,\n",
    "                        scoring='f1')\n",
    "DTC_model.fit(feat_train,target_train)"
   ]
  },
  {
   "cell_type": "code",
   "execution_count": null,
   "metadata": {},
   "outputs": [],
   "source": [
    "DTC_model.best_params_"
   ]
  },
  {
   "cell_type": "code",
   "execution_count": null,
   "metadata": {
    "scrolled": true
   },
   "outputs": [],
   "source": [
    "f1_score_train = round(DTC_model.best_score_,4)\n",
    "print(f'F1 мера на тренировочных данных {f1_score_train}')"
   ]
  },
  {
   "cell_type": "code",
   "execution_count": null,
   "metadata": {},
   "outputs": [],
   "source": [
    "predictions_DTC = DTC_model.predict(feat_test)"
   ]
  },
  {
   "cell_type": "markdown",
   "metadata": {},
   "source": [
    "Теперь проверим результат на тестовых данных!"
   ]
  },
  {
   "cell_type": "code",
   "execution_count": null,
   "metadata": {
    "scrolled": true
   },
   "outputs": [],
   "source": [
    "print(classification_report(target_test, predictions_DTC))"
   ]
  },
  {
   "cell_type": "code",
   "execution_count": null,
   "metadata": {},
   "outputs": [],
   "source": [
    "f1_score_test = round(f1_score(target_test, predictions_DTC),4)\n",
    "print(f'F1 мера на тестовых данных {f1_score_test}')"
   ]
  },
  {
   "cell_type": "markdown",
   "metadata": {},
   "source": [
    "- Основная метрика (F1) = 0.5763"
   ]
  },
  {
   "cell_type": "markdown",
   "metadata": {},
   "source": [
    "`Случайный лес`"
   ]
  },
  {
   "cell_type": "code",
   "execution_count": null,
   "metadata": {},
   "outputs": [],
   "source": [
    "params = {'max_depth':range(1,30),\n",
    "         'n_estimators':range(1,50,2),\n",
    "         'min_samples_leaf':range(1,6)}\n",
    "RFC_model = RandomizedSearchCV(RandomForestClassifier(),\n",
    "                              param_distributions=params,\n",
    "                              cv=5,\n",
    "                              n_iter=20,\n",
    "                              scoring='f1')\n",
    "RFC_model.fit(feat_train,target_train)"
   ]
  },
  {
   "cell_type": "code",
   "execution_count": null,
   "metadata": {},
   "outputs": [],
   "source": [
    "RFC_model.best_params_"
   ]
  },
  {
   "cell_type": "code",
   "execution_count": null,
   "metadata": {},
   "outputs": [],
   "source": [
    "f1_score_train = round(RFC_model.best_score_,4)\n",
    "print(f'F1 мера на тренировочных данных {f1_score_train}')"
   ]
  },
  {
   "cell_type": "code",
   "execution_count": null,
   "metadata": {},
   "outputs": [],
   "source": [
    "predictions_RFC = RFC_model.predict(feat_test)\n",
    "f1_score_test = round(f1_score(target_test, predictions_RFC),4)\n",
    "print(f'F1 мера на тестовых данных {f1_score_test}')"
   ]
  },
  {
   "cell_type": "markdown",
   "metadata": {},
   "source": [
    "- Основная метрика (F1) = 0.6199"
   ]
  },
  {
   "cell_type": "markdown",
   "metadata": {},
   "source": [
    "`Логистическая регрессия`"
   ]
  },
  {
   "cell_type": "code",
   "execution_count": null,
   "metadata": {},
   "outputs": [],
   "source": [
    "params = {\n",
    "    'max_iter':[10,30,50,100,150,500,700],\n",
    "    'solver':['lbfgs','liblinear'],\n",
    "     'penalty':['l2']}\n",
    "LR_model = GridSearchCV(LogisticRegression(),\n",
    "                        param_grid=params,\n",
    "                       cv=5,\n",
    "                       n_jobs=-1,\n",
    "                       scoring='f1')\n",
    "LR_model.fit(feat_train,target_train)"
   ]
  },
  {
   "cell_type": "code",
   "execution_count": null,
   "metadata": {},
   "outputs": [],
   "source": [
    "LR_model.best_params_"
   ]
  },
  {
   "cell_type": "code",
   "execution_count": null,
   "metadata": {},
   "outputs": [],
   "source": [
    "f1_score_train = round(LR_model.best_score_,4)\n",
    "print(f'F1 мера на тренировочных данных {f1_score_train}')"
   ]
  },
  {
   "cell_type": "code",
   "execution_count": null,
   "metadata": {},
   "outputs": [],
   "source": [
    "predictions_LR = LR_model.predict(feat_test)\n",
    "f1_score_test = round(f1_score(target_test, predictions_LR),4)\n",
    "print(f'F1 мера на тестовых данных {f1_score_test}')"
   ]
  },
  {
   "cell_type": "markdown",
   "metadata": {},
   "source": [
    "- Основная метрика(F1) = 0.5072"
   ]
  },
  {
   "cell_type": "markdown",
   "metadata": {},
   "source": [
    "***ROC AUC***"
   ]
  },
  {
   "cell_type": "code",
   "execution_count": null,
   "metadata": {},
   "outputs": [],
   "source": [
    "#метрика roc_auc\n",
    "pred_prob_DTC = DTC_model.predict_proba(feat_test)[:,1]\n",
    "pred_prob_RFC = RFC_model.predict_proba(feat_test)[:,1]\n",
    "pred_prob_LR = LR_model.predict_proba(feat_test)[:,1]"
   ]
  },
  {
   "cell_type": "code",
   "execution_count": null,
   "metadata": {
    "scrolled": false
   },
   "outputs": [],
   "source": [
    "print(pred_prob_DTC.shape)\n",
    "pred_prob_DTC"
   ]
  },
  {
   "cell_type": "code",
   "execution_count": null,
   "metadata": {},
   "outputs": [],
   "source": [
    "#код ревьюера\n",
    "pd.Series(pred_prob_DTC).value_counts()"
   ]
  },
  {
   "cell_type": "code",
   "execution_count": null,
   "metadata": {},
   "outputs": [],
   "source": [
    "roc_auc_DTC = round(roc_auc_score(target_test, pred_prob_DTC),4)\n",
    "roc_auc_RFC = round(roc_auc_score(target_test, pred_prob_RFC),4)\n",
    "roc_auc_LR = round(roc_auc_score(target_test, pred_prob_LR),4)"
   ]
  },
  {
   "cell_type": "code",
   "execution_count": null,
   "metadata": {
    "scrolled": true
   },
   "outputs": [],
   "source": [
    "list_names = ['Дерево решений','Случайный лес','Логистическая регрессия']\n",
    "list_values = [roc_auc_DTC, roc_auc_RFC, roc_auc_LR]\n",
    "\n",
    "ax = sns.barplot(list_values, list_names)\n",
    "for i in ax.patches:\n",
    "    width = i.get_width()\n",
    "    ax.text(i.get_width() + 0.05, i.get_y() + 0.5, round(width,2), ha='center', va='bottom')\n",
    "ax.set_title('ROC AUC scoring')"
   ]
  },
  {
   "cell_type": "code",
   "execution_count": null,
   "metadata": {
    "scrolled": false
   },
   "outputs": [],
   "source": [
    "fpr_1, tpr_1, threshold_1 = roc_curve(target_test, pred_prob_DTC)\n",
    "roc_auc_1 = auc(fpr_1, tpr_1)\n",
    "fpr_2, tpr_2, threshold_2 = roc_curve(target_test, pred_prob_RFC)\n",
    "roc_auc_2 = auc(fpr_2, tpr_2)\n",
    "fpr_3, tpr_3, threshold_3 = roc_curve(target_test, pred_prob_LR)\n",
    "roc_auc_3 = auc(fpr_3,tpr_3)"
   ]
  },
  {
   "cell_type": "code",
   "execution_count": null,
   "metadata": {},
   "outputs": [],
   "source": [
    "list_fpr = [fpr_1, fpr_2, fpr_3]\n",
    "list_tpr = [tpr_1, tpr_2, tpr_3]\n",
    "list_roc_auc = [roc_auc_1,roc_auc_2,roc_auc_3]\n",
    "\n",
    "fig,ax = plt.subplots()\n",
    "for fpr, tpr, roc_auc, name in zip(list_fpr, list_tpr,list_roc_auc,list_names):\n",
    "    ax.plot(fpr,tpr,\n",
    "           label=f'{name} (area = %0.2f)' % roc_auc)\n",
    "ax.set_title(\"Roc curve\")\n",
    "ax.set_xlabel(\"True Positive Rate\")\n",
    "ax.set_ylabel(\"False Positive Rate\")\n",
    "ax.legend(loc='best')"
   ]
  },
  {
   "cell_type": "markdown",
   "metadata": {},
   "source": [
    "## Общий вывод"
   ]
  },
  {
   "cell_type": "markdown",
   "metadata": {},
   "source": [
    "В результате исследования получили лучшую модель - случайный лес. \n",
    "\n",
    "- Метрика F1 мера = 0.6199\n",
    "- Метрика AUC мера = 0.88"
   ]
  },
  {
   "cell_type": "markdown",
   "metadata": {},
   "source": [
    "## Чек-лист готовности проекта"
   ]
  },
  {
   "cell_type": "markdown",
   "metadata": {},
   "source": [
    "Поставьте 'x' в выполненных пунктах. Далее нажмите Shift+Enter."
   ]
  },
  {
   "cell_type": "markdown",
   "metadata": {},
   "source": [
    "- [x]  Jupyter Notebook открыт\n",
    "- [x]  Весь код выполняется без ошибок\n",
    "- [x]  Ячейки с кодом расположены в порядке исполнения\n",
    "- [x]  Выполнен шаг 1: данные подготовлены\n",
    "- [x]  Выполнен шаг 2: задача исследована\n",
    "    - [x]  Исследован баланс классов\n",
    "    - [x]  Изучены модели без учёта дисбаланса\n",
    "    - [x]  Написаны выводы по результатам исследования\n",
    "- [x]  Выполнен шаг 3: учтён дисбаланс\n",
    "    - [x]  Применено несколько способов борьбы с дисбалансом\n",
    "    - [x]  Написаны выводы по результатам исследования\n",
    "- [x]  Выполнен шаг 4: проведено тестирование\n",
    "- [x]  Удалось достичь *F1*-меры не менее 0.59\n",
    "- [x]  Исследована метрика *AUC-ROC*"
   ]
  }
 ],
 "metadata": {
  "ExecuteTimeLog": [
   {
    "duration": 1316,
    "start_time": "2022-07-26T19:48:16.170Z"
   },
   {
    "duration": 13,
    "start_time": "2022-07-26T19:48:28.049Z"
   },
   {
    "duration": 175,
    "start_time": "2022-07-26T19:51:23.347Z"
   },
   {
    "duration": 15,
    "start_time": "2022-07-26T19:51:42.891Z"
   },
   {
    "duration": 4,
    "start_time": "2022-07-26T19:52:12.293Z"
   },
   {
    "duration": 14,
    "start_time": "2022-07-26T19:53:04.427Z"
   },
   {
    "duration": 9,
    "start_time": "2022-07-26T19:53:08.584Z"
   },
   {
    "duration": 23,
    "start_time": "2022-07-26T19:54:58.251Z"
   },
   {
    "duration": 3,
    "start_time": "2022-07-26T20:02:15.527Z"
   },
   {
    "duration": 6,
    "start_time": "2022-07-26T20:03:54.064Z"
   },
   {
    "duration": 4,
    "start_time": "2022-07-26T20:04:13.376Z"
   },
   {
    "duration": 38,
    "start_time": "2022-07-26T20:04:31.457Z"
   },
   {
    "duration": 13,
    "start_time": "2022-07-26T20:04:43.736Z"
   },
   {
    "duration": 20,
    "start_time": "2022-07-26T20:36:30.669Z"
   },
   {
    "duration": 6,
    "start_time": "2022-07-26T20:36:36.351Z"
   },
   {
    "duration": 734,
    "start_time": "2022-07-26T20:36:44.744Z"
   },
   {
    "duration": 4,
    "start_time": "2022-07-26T20:37:21.747Z"
   },
   {
    "duration": 127,
    "start_time": "2022-07-26T20:37:46.946Z"
   },
   {
    "duration": 130,
    "start_time": "2022-07-26T20:39:26.544Z"
   },
   {
    "duration": 156,
    "start_time": "2022-07-26T20:39:31.700Z"
   },
   {
    "duration": 139,
    "start_time": "2022-07-26T20:42:03.244Z"
   },
   {
    "duration": 118,
    "start_time": "2022-07-26T20:42:23.672Z"
   },
   {
    "duration": 270,
    "start_time": "2022-07-26T20:43:24.404Z"
   },
   {
    "duration": 151,
    "start_time": "2022-07-26T20:43:33.117Z"
   },
   {
    "duration": 146,
    "start_time": "2022-07-26T20:43:38.641Z"
   },
   {
    "duration": 149,
    "start_time": "2022-07-26T20:43:43.153Z"
   },
   {
    "duration": 158,
    "start_time": "2022-07-26T20:43:46.417Z"
   },
   {
    "duration": 152,
    "start_time": "2022-07-26T20:43:49.341Z"
   },
   {
    "duration": 144,
    "start_time": "2022-07-26T20:43:58.237Z"
   },
   {
    "duration": 186,
    "start_time": "2022-07-26T20:44:58.366Z"
   },
   {
    "duration": 183,
    "start_time": "2022-07-26T20:45:10.196Z"
   },
   {
    "duration": 168,
    "start_time": "2022-07-26T20:45:37.008Z"
   },
   {
    "duration": 159,
    "start_time": "2022-07-26T20:46:07.336Z"
   },
   {
    "duration": 1524,
    "start_time": "2022-07-27T11:34:22.576Z"
   },
   {
    "duration": 77,
    "start_time": "2022-07-27T11:34:24.102Z"
   },
   {
    "duration": 18,
    "start_time": "2022-07-27T11:34:24.181Z"
   },
   {
    "duration": 5,
    "start_time": "2022-07-27T11:34:24.201Z"
   },
   {
    "duration": 13,
    "start_time": "2022-07-27T11:34:24.207Z"
   },
   {
    "duration": 131,
    "start_time": "2022-07-27T11:34:24.221Z"
   },
   {
    "duration": 1374,
    "start_time": "2022-07-27T11:34:24.354Z"
   },
   {
    "duration": 5,
    "start_time": "2022-07-27T13:35:54.093Z"
   },
   {
    "duration": 4,
    "start_time": "2022-07-27T13:36:59.471Z"
   },
   {
    "duration": 10,
    "start_time": "2022-07-27T13:37:07.847Z"
   },
   {
    "duration": 5,
    "start_time": "2022-07-27T13:45:16.404Z"
   },
   {
    "duration": 6,
    "start_time": "2022-07-27T13:45:25.968Z"
   },
   {
    "duration": 6,
    "start_time": "2022-07-27T13:45:58.469Z"
   },
   {
    "duration": 831,
    "start_time": "2022-07-27T13:46:27.090Z"
   },
   {
    "duration": 6,
    "start_time": "2022-07-27T13:46:43.669Z"
   },
   {
    "duration": 9,
    "start_time": "2022-07-27T13:48:13.834Z"
   },
   {
    "duration": 19,
    "start_time": "2022-07-27T13:48:21.294Z"
   },
   {
    "duration": 10,
    "start_time": "2022-07-27T13:50:40.870Z"
   },
   {
    "duration": 18,
    "start_time": "2022-07-27T13:56:13.361Z"
   },
   {
    "duration": 39,
    "start_time": "2022-07-27T13:56:19.289Z"
   },
   {
    "duration": 4,
    "start_time": "2022-07-27T14:00:43.649Z"
   },
   {
    "duration": 6,
    "start_time": "2022-07-27T14:01:11.745Z"
   },
   {
    "duration": 56,
    "start_time": "2022-07-27T14:04:11.232Z"
   },
   {
    "duration": 442,
    "start_time": "2022-07-27T14:04:54.625Z"
   },
   {
    "duration": 1103,
    "start_time": "2022-07-27T14:05:11.779Z"
   },
   {
    "duration": 949,
    "start_time": "2022-07-27T14:05:31.733Z"
   },
   {
    "duration": 147,
    "start_time": "2022-07-27T14:05:48.469Z"
   },
   {
    "duration": 901,
    "start_time": "2022-07-27T14:07:34.367Z"
   },
   {
    "duration": 421,
    "start_time": "2022-07-27T14:07:51.982Z"
   },
   {
    "duration": 15,
    "start_time": "2022-07-27T14:12:09.493Z"
   },
   {
    "duration": 23,
    "start_time": "2022-07-27T14:12:26.488Z"
   },
   {
    "duration": 910,
    "start_time": "2022-07-27T14:12:49.134Z"
   },
   {
    "duration": 6,
    "start_time": "2022-07-27T14:24:25.059Z"
   },
   {
    "duration": 44,
    "start_time": "2022-07-27T14:40:21.820Z"
   },
   {
    "duration": 34,
    "start_time": "2022-07-27T14:44:34.983Z"
   },
   {
    "duration": 1100,
    "start_time": "2022-07-27T14:45:09.551Z"
   },
   {
    "duration": 51,
    "start_time": "2022-07-27T14:45:30.076Z"
   },
   {
    "duration": 36,
    "start_time": "2022-07-27T14:45:41.550Z"
   },
   {
    "duration": 1036,
    "start_time": "2022-07-27T14:45:47.583Z"
   },
   {
    "duration": 36,
    "start_time": "2022-07-27T14:46:00.804Z"
   },
   {
    "duration": 38,
    "start_time": "2022-07-27T14:46:06.231Z"
   },
   {
    "duration": 12,
    "start_time": "2022-07-27T14:46:55.301Z"
   },
   {
    "duration": 16,
    "start_time": "2022-07-27T14:47:04.331Z"
   },
   {
    "duration": 25,
    "start_time": "2022-07-27T14:47:07.882Z"
   },
   {
    "duration": 46,
    "start_time": "2022-07-27T14:47:17.761Z"
   },
   {
    "duration": 47,
    "start_time": "2022-07-27T14:49:56.651Z"
   },
   {
    "duration": 9240,
    "start_time": "2022-07-27T14:59:15.949Z"
   },
   {
    "duration": 16,
    "start_time": "2022-07-27T17:53:25.790Z"
   },
   {
    "duration": 15,
    "start_time": "2022-07-27T17:54:02.131Z"
   },
   {
    "duration": 5,
    "start_time": "2022-07-27T18:03:07.463Z"
   },
   {
    "duration": 37,
    "start_time": "2022-07-27T19:14:10.646Z"
   },
   {
    "duration": 18,
    "start_time": "2022-07-27T19:15:05.015Z"
   },
   {
    "duration": 17,
    "start_time": "2022-07-27T19:17:38.685Z"
   },
   {
    "duration": 63,
    "start_time": "2022-07-27T19:17:39.645Z"
   },
   {
    "duration": 19,
    "start_time": "2022-07-27T19:18:07.581Z"
   },
   {
    "duration": 19,
    "start_time": "2022-07-27T19:18:38.345Z"
   },
   {
    "duration": 21,
    "start_time": "2022-07-27T19:27:40.775Z"
   },
   {
    "duration": 0,
    "start_time": "2022-07-27T19:27:40.798Z"
   },
   {
    "duration": 0,
    "start_time": "2022-07-27T19:27:40.799Z"
   },
   {
    "duration": 5,
    "start_time": "2022-07-27T19:27:40.803Z"
   },
   {
    "duration": 16,
    "start_time": "2022-07-27T19:27:40.809Z"
   },
   {
    "duration": 283,
    "start_time": "2022-07-27T19:27:40.827Z"
   },
   {
    "duration": 6,
    "start_time": "2022-07-27T19:27:41.112Z"
   },
   {
    "duration": 44,
    "start_time": "2022-07-27T19:27:41.120Z"
   },
   {
    "duration": 25,
    "start_time": "2022-07-27T19:27:41.166Z"
   },
   {
    "duration": 28,
    "start_time": "2022-07-27T19:27:41.193Z"
   },
   {
    "duration": 21,
    "start_time": "2022-07-27T19:27:41.223Z"
   },
   {
    "duration": 23,
    "start_time": "2022-07-27T19:27:41.246Z"
   },
   {
    "duration": 25,
    "start_time": "2022-07-27T19:27:41.271Z"
   },
   {
    "duration": 1010,
    "start_time": "2022-07-27T19:27:41.298Z"
   },
   {
    "duration": 5,
    "start_time": "2022-07-27T19:27:42.310Z"
   },
   {
    "duration": 5,
    "start_time": "2022-07-27T19:27:42.317Z"
   },
   {
    "duration": 25,
    "start_time": "2022-07-27T19:27:42.323Z"
   },
   {
    "duration": 33,
    "start_time": "2022-07-27T19:27:42.349Z"
   },
   {
    "duration": 10,
    "start_time": "2022-07-27T19:27:42.383Z"
   },
   {
    "duration": 1098,
    "start_time": "2022-07-28T14:41:28.766Z"
   },
   {
    "duration": 0,
    "start_time": "2022-07-28T14:41:29.866Z"
   },
   {
    "duration": 0,
    "start_time": "2022-07-28T14:41:29.867Z"
   },
   {
    "duration": 0,
    "start_time": "2022-07-28T14:41:29.869Z"
   },
   {
    "duration": 0,
    "start_time": "2022-07-28T14:41:29.870Z"
   },
   {
    "duration": 0,
    "start_time": "2022-07-28T14:41:29.874Z"
   },
   {
    "duration": 0,
    "start_time": "2022-07-28T14:41:29.875Z"
   },
   {
    "duration": 0,
    "start_time": "2022-07-28T14:41:29.876Z"
   },
   {
    "duration": 0,
    "start_time": "2022-07-28T14:41:29.877Z"
   },
   {
    "duration": 0,
    "start_time": "2022-07-28T14:41:29.879Z"
   },
   {
    "duration": 0,
    "start_time": "2022-07-28T14:41:29.880Z"
   },
   {
    "duration": 0,
    "start_time": "2022-07-28T14:41:29.881Z"
   },
   {
    "duration": 0,
    "start_time": "2022-07-28T14:41:29.883Z"
   },
   {
    "duration": 0,
    "start_time": "2022-07-28T14:41:29.884Z"
   },
   {
    "duration": 0,
    "start_time": "2022-07-28T14:41:29.885Z"
   },
   {
    "duration": 0,
    "start_time": "2022-07-28T14:41:29.887Z"
   },
   {
    "duration": 0,
    "start_time": "2022-07-28T14:41:29.888Z"
   },
   {
    "duration": 0,
    "start_time": "2022-07-28T14:41:29.890Z"
   },
   {
    "duration": 0,
    "start_time": "2022-07-28T14:41:29.891Z"
   },
   {
    "duration": 6688,
    "start_time": "2022-07-28T14:42:12.618Z"
   },
   {
    "duration": 36,
    "start_time": "2022-07-28T14:42:22.712Z"
   },
   {
    "duration": 392,
    "start_time": "2022-07-28T14:59:17.310Z"
   },
   {
    "duration": 361,
    "start_time": "2022-07-28T14:59:28.338Z"
   },
   {
    "duration": 15311,
    "start_time": "2022-07-28T14:59:51.594Z"
   },
   {
    "duration": 1069,
    "start_time": "2022-07-28T15:00:28.470Z"
   },
   {
    "duration": 1562,
    "start_time": "2022-07-29T13:06:59.508Z"
   },
   {
    "duration": 133,
    "start_time": "2022-07-29T13:07:01.072Z"
   },
   {
    "duration": 17,
    "start_time": "2022-07-29T13:07:01.207Z"
   },
   {
    "duration": 10,
    "start_time": "2022-07-29T13:07:01.226Z"
   },
   {
    "duration": 32,
    "start_time": "2022-07-29T13:07:01.237Z"
   },
   {
    "duration": 148,
    "start_time": "2022-07-29T13:07:01.271Z"
   },
   {
    "duration": 11,
    "start_time": "2022-07-29T13:07:01.421Z"
   },
   {
    "duration": 6,
    "start_time": "2022-07-29T13:07:01.433Z"
   },
   {
    "duration": 7,
    "start_time": "2022-07-29T13:07:01.440Z"
   },
   {
    "duration": 10,
    "start_time": "2022-07-29T13:07:01.449Z"
   },
   {
    "duration": 14,
    "start_time": "2022-07-29T13:07:01.461Z"
   },
   {
    "duration": 14,
    "start_time": "2022-07-29T13:07:01.477Z"
   },
   {
    "duration": 11,
    "start_time": "2022-07-29T13:07:01.493Z"
   },
   {
    "duration": 1079,
    "start_time": "2022-07-29T13:07:01.506Z"
   },
   {
    "duration": 4,
    "start_time": "2022-07-29T13:07:02.587Z"
   },
   {
    "duration": 21,
    "start_time": "2022-07-29T13:07:02.592Z"
   },
   {
    "duration": 36,
    "start_time": "2022-07-29T13:07:02.615Z"
   },
   {
    "duration": 100,
    "start_time": "2022-07-29T13:07:02.653Z"
   },
   {
    "duration": 4,
    "start_time": "2022-07-29T13:15:20.387Z"
   },
   {
    "duration": 9,
    "start_time": "2022-07-29T13:20:37.224Z"
   },
   {
    "duration": 8,
    "start_time": "2022-07-29T13:21:55.803Z"
   },
   {
    "duration": 14,
    "start_time": "2022-07-29T13:22:10.258Z"
   },
   {
    "duration": 7,
    "start_time": "2022-07-29T13:25:00.978Z"
   },
   {
    "duration": 15,
    "start_time": "2022-07-29T13:25:09.080Z"
   },
   {
    "duration": 6,
    "start_time": "2022-07-29T13:25:13.478Z"
   },
   {
    "duration": 19,
    "start_time": "2022-07-29T13:27:17.927Z"
   },
   {
    "duration": 21,
    "start_time": "2022-07-29T13:27:46.722Z"
   },
   {
    "duration": 16,
    "start_time": "2022-07-29T13:27:50.019Z"
   },
   {
    "duration": 10,
    "start_time": "2022-07-29T13:28:14.319Z"
   },
   {
    "duration": 17,
    "start_time": "2022-07-29T13:28:22.415Z"
   },
   {
    "duration": 5,
    "start_time": "2022-07-29T13:29:13.362Z"
   },
   {
    "duration": 5,
    "start_time": "2022-07-29T13:30:31.683Z"
   },
   {
    "duration": 22,
    "start_time": "2022-07-29T13:30:36.533Z"
   },
   {
    "duration": 40,
    "start_time": "2022-07-29T13:30:37.418Z"
   },
   {
    "duration": 5,
    "start_time": "2022-07-29T13:31:31.817Z"
   },
   {
    "duration": 8,
    "start_time": "2022-07-29T13:32:06.040Z"
   },
   {
    "duration": 5,
    "start_time": "2022-07-29T13:32:26.914Z"
   },
   {
    "duration": 5,
    "start_time": "2022-07-29T13:32:42.328Z"
   },
   {
    "duration": 10,
    "start_time": "2022-07-29T15:17:45.726Z"
   },
   {
    "duration": 5,
    "start_time": "2022-07-29T15:18:32.271Z"
   },
   {
    "duration": 15,
    "start_time": "2022-07-29T15:18:41.113Z"
   },
   {
    "duration": 8,
    "start_time": "2022-07-29T15:19:05.123Z"
   },
   {
    "duration": 8,
    "start_time": "2022-07-29T15:19:20.303Z"
   },
   {
    "duration": 9,
    "start_time": "2022-07-29T15:19:37.066Z"
   },
   {
    "duration": 15,
    "start_time": "2022-07-29T15:22:35.650Z"
   },
   {
    "duration": 14,
    "start_time": "2022-07-29T15:23:20.607Z"
   },
   {
    "duration": 15,
    "start_time": "2022-07-29T15:23:26.149Z"
   },
   {
    "duration": 10,
    "start_time": "2022-07-29T15:23:31.092Z"
   },
   {
    "duration": 19,
    "start_time": "2022-07-29T15:23:41.625Z"
   },
   {
    "duration": 9,
    "start_time": "2022-07-29T15:23:51.411Z"
   },
   {
    "duration": 5833,
    "start_time": "2022-07-29T15:48:38.074Z"
   },
   {
    "duration": 4,
    "start_time": "2022-07-29T15:50:59.864Z"
   },
   {
    "duration": 15,
    "start_time": "2022-07-29T15:51:44.942Z"
   },
   {
    "duration": 5,
    "start_time": "2022-07-29T15:52:13.840Z"
   },
   {
    "duration": 15,
    "start_time": "2022-07-29T15:52:32.712Z"
   },
   {
    "duration": 5780,
    "start_time": "2022-07-29T15:56:18.343Z"
   },
   {
    "duration": 18,
    "start_time": "2022-07-29T15:56:30.750Z"
   },
   {
    "duration": 5780,
    "start_time": "2022-07-29T15:56:41.704Z"
   },
   {
    "duration": 15,
    "start_time": "2022-07-29T15:56:59.595Z"
   },
   {
    "duration": 6223,
    "start_time": "2022-07-29T15:57:34.502Z"
   },
   {
    "duration": 5904,
    "start_time": "2022-07-29T15:57:43.516Z"
   },
   {
    "duration": 3,
    "start_time": "2022-07-29T15:57:49.422Z"
   },
   {
    "duration": 5,
    "start_time": "2022-07-29T15:57:55.357Z"
   },
   {
    "duration": 4,
    "start_time": "2022-07-29T15:58:11.426Z"
   },
   {
    "duration": 6,
    "start_time": "2022-07-29T15:58:50.438Z"
   },
   {
    "duration": 14,
    "start_time": "2022-07-29T15:59:14.960Z"
   },
   {
    "duration": 16,
    "start_time": "2022-07-29T15:59:29.383Z"
   },
   {
    "duration": 3,
    "start_time": "2022-07-29T16:00:48.166Z"
   },
   {
    "duration": 4,
    "start_time": "2022-07-29T16:01:01.263Z"
   },
   {
    "duration": 9,
    "start_time": "2022-07-29T16:09:57.985Z"
   },
   {
    "duration": 15,
    "start_time": "2022-07-29T16:11:58.729Z"
   },
   {
    "duration": 8,
    "start_time": "2022-07-29T16:12:26.469Z"
   },
   {
    "duration": 4,
    "start_time": "2022-07-29T16:12:40.161Z"
   },
   {
    "duration": 4,
    "start_time": "2022-07-29T16:22:52.126Z"
   },
   {
    "duration": 4,
    "start_time": "2022-07-29T16:23:05.478Z"
   },
   {
    "duration": 3,
    "start_time": "2022-07-29T16:23:09.280Z"
   },
   {
    "duration": 4,
    "start_time": "2022-07-29T16:23:13.357Z"
   },
   {
    "duration": 106,
    "start_time": "2022-07-29T16:23:16.848Z"
   },
   {
    "duration": 5,
    "start_time": "2022-07-29T16:23:27.369Z"
   },
   {
    "duration": 3,
    "start_time": "2022-07-29T16:23:49.071Z"
   },
   {
    "duration": 26639,
    "start_time": "2022-07-29T16:24:18.431Z"
   },
   {
    "duration": 3,
    "start_time": "2022-07-29T16:24:56.475Z"
   },
   {
    "duration": 5,
    "start_time": "2022-07-29T16:25:12.458Z"
   },
   {
    "duration": 4,
    "start_time": "2022-07-29T16:25:38.530Z"
   },
   {
    "duration": 4,
    "start_time": "2022-07-29T16:26:12.908Z"
   },
   {
    "duration": 58,
    "start_time": "2022-07-29T16:27:56.627Z"
   },
   {
    "duration": 15,
    "start_time": "2022-07-29T16:32:44.701Z"
   },
   {
    "duration": 4,
    "start_time": "2022-07-29T16:33:18.876Z"
   },
   {
    "duration": 26471,
    "start_time": "2022-07-29T16:33:38.987Z"
   },
   {
    "duration": 11810,
    "start_time": "2022-07-29T16:34:22.734Z"
   },
   {
    "duration": 12478,
    "start_time": "2022-07-29T16:35:06.559Z"
   },
   {
    "duration": 4,
    "start_time": "2022-07-29T16:38:06.591Z"
   },
   {
    "duration": 8,
    "start_time": "2022-07-29T16:38:20.809Z"
   },
   {
    "duration": 4,
    "start_time": "2022-07-29T16:38:23.223Z"
   },
   {
    "duration": 3,
    "start_time": "2022-07-29T16:38:59.197Z"
   },
   {
    "duration": 10,
    "start_time": "2022-07-29T16:39:41.456Z"
   },
   {
    "duration": 9,
    "start_time": "2022-07-29T16:40:47.270Z"
   },
   {
    "duration": 45,
    "start_time": "2022-07-29T16:45:16.624Z"
   },
   {
    "duration": 4,
    "start_time": "2022-07-29T16:45:26.424Z"
   },
   {
    "duration": 39,
    "start_time": "2022-07-29T16:45:49.059Z"
   },
   {
    "duration": 4,
    "start_time": "2022-07-29T16:45:56.228Z"
   },
   {
    "duration": 52,
    "start_time": "2022-07-29T16:46:19.664Z"
   },
   {
    "duration": 5,
    "start_time": "2022-07-29T16:46:21.513Z"
   },
   {
    "duration": 3,
    "start_time": "2022-07-29T16:46:36.879Z"
   },
   {
    "duration": 7,
    "start_time": "2022-07-29T16:46:46.991Z"
   },
   {
    "duration": 76,
    "start_time": "2022-07-29T16:47:14.288Z"
   },
   {
    "duration": 11,
    "start_time": "2022-07-29T16:47:17.067Z"
   },
   {
    "duration": 10,
    "start_time": "2022-07-29T17:12:02.563Z"
   },
   {
    "duration": 10,
    "start_time": "2022-07-29T17:14:04.360Z"
   },
   {
    "duration": 7,
    "start_time": "2022-07-29T17:14:14.555Z"
   },
   {
    "duration": 189,
    "start_time": "2022-07-29T17:18:02.027Z"
   },
   {
    "duration": 10,
    "start_time": "2022-07-29T17:21:19.149Z"
   },
   {
    "duration": 243,
    "start_time": "2022-07-29T17:21:20.035Z"
   },
   {
    "duration": 162,
    "start_time": "2022-07-29T17:23:36.281Z"
   },
   {
    "duration": 19,
    "start_time": "2022-07-29T17:37:17.631Z"
   },
   {
    "duration": 5,
    "start_time": "2022-07-29T17:37:30.093Z"
   },
   {
    "duration": 10,
    "start_time": "2022-07-29T17:37:35.794Z"
   },
   {
    "duration": 3,
    "start_time": "2022-07-29T17:38:26.179Z"
   },
   {
    "duration": 4,
    "start_time": "2022-07-29T17:38:56.914Z"
   },
   {
    "duration": 184,
    "start_time": "2022-07-29T17:43:50.308Z"
   },
   {
    "duration": 196,
    "start_time": "2022-07-29T17:44:10.978Z"
   },
   {
    "duration": 1728,
    "start_time": "2022-07-29T20:37:01.556Z"
   },
   {
    "duration": 79,
    "start_time": "2022-07-29T20:37:03.286Z"
   },
   {
    "duration": 17,
    "start_time": "2022-07-29T20:37:03.366Z"
   },
   {
    "duration": 5,
    "start_time": "2022-07-29T20:37:03.385Z"
   },
   {
    "duration": 18,
    "start_time": "2022-07-29T20:37:03.391Z"
   },
   {
    "duration": 160,
    "start_time": "2022-07-29T20:37:03.411Z"
   },
   {
    "duration": 4,
    "start_time": "2022-07-29T20:37:03.573Z"
   },
   {
    "duration": 12,
    "start_time": "2022-07-29T20:37:03.579Z"
   },
   {
    "duration": 9,
    "start_time": "2022-07-29T20:37:03.593Z"
   },
   {
    "duration": 12,
    "start_time": "2022-07-29T20:37:03.605Z"
   },
   {
    "duration": 12,
    "start_time": "2022-07-29T20:37:03.624Z"
   },
   {
    "duration": 12,
    "start_time": "2022-07-29T20:37:03.637Z"
   },
   {
    "duration": 256,
    "start_time": "2022-07-29T20:37:03.651Z"
   },
   {
    "duration": 0,
    "start_time": "2022-07-29T20:37:03.909Z"
   },
   {
    "duration": 0,
    "start_time": "2022-07-29T20:37:03.911Z"
   },
   {
    "duration": 0,
    "start_time": "2022-07-29T20:37:03.923Z"
   },
   {
    "duration": 0,
    "start_time": "2022-07-29T20:37:03.925Z"
   },
   {
    "duration": 0,
    "start_time": "2022-07-29T20:37:03.926Z"
   },
   {
    "duration": 0,
    "start_time": "2022-07-29T20:37:03.927Z"
   },
   {
    "duration": 0,
    "start_time": "2022-07-29T20:37:03.928Z"
   },
   {
    "duration": 0,
    "start_time": "2022-07-29T20:37:03.929Z"
   },
   {
    "duration": 0,
    "start_time": "2022-07-29T20:37:03.930Z"
   },
   {
    "duration": 0,
    "start_time": "2022-07-29T20:37:03.931Z"
   },
   {
    "duration": 0,
    "start_time": "2022-07-29T20:37:03.932Z"
   },
   {
    "duration": 0,
    "start_time": "2022-07-29T20:37:03.933Z"
   },
   {
    "duration": 0,
    "start_time": "2022-07-29T20:37:03.934Z"
   },
   {
    "duration": 0,
    "start_time": "2022-07-29T20:37:03.935Z"
   },
   {
    "duration": 0,
    "start_time": "2022-07-29T20:37:03.937Z"
   },
   {
    "duration": 0,
    "start_time": "2022-07-29T20:37:03.938Z"
   },
   {
    "duration": 0,
    "start_time": "2022-07-29T20:37:03.939Z"
   },
   {
    "duration": 0,
    "start_time": "2022-07-29T20:37:03.940Z"
   },
   {
    "duration": 0,
    "start_time": "2022-07-29T20:37:03.941Z"
   },
   {
    "duration": 0,
    "start_time": "2022-07-29T20:37:03.942Z"
   },
   {
    "duration": 0,
    "start_time": "2022-07-29T20:37:03.943Z"
   },
   {
    "duration": 0,
    "start_time": "2022-07-29T20:37:03.944Z"
   },
   {
    "duration": 0,
    "start_time": "2022-07-29T20:37:03.945Z"
   },
   {
    "duration": 0,
    "start_time": "2022-07-29T20:37:03.946Z"
   },
   {
    "duration": 0,
    "start_time": "2022-07-29T20:37:03.947Z"
   },
   {
    "duration": 0,
    "start_time": "2022-07-29T20:37:03.948Z"
   },
   {
    "duration": 0,
    "start_time": "2022-07-29T20:37:03.949Z"
   },
   {
    "duration": 0,
    "start_time": "2022-07-29T20:37:03.950Z"
   },
   {
    "duration": 0,
    "start_time": "2022-07-29T20:37:03.951Z"
   },
   {
    "duration": 905,
    "start_time": "2022-07-29T20:40:15.124Z"
   },
   {
    "duration": 10,
    "start_time": "2022-07-29T20:45:44.523Z"
   },
   {
    "duration": 0,
    "start_time": "2022-07-29T20:45:44.535Z"
   },
   {
    "duration": 0,
    "start_time": "2022-07-29T20:45:44.536Z"
   },
   {
    "duration": 0,
    "start_time": "2022-07-29T20:45:44.537Z"
   },
   {
    "duration": 0,
    "start_time": "2022-07-29T20:45:44.538Z"
   },
   {
    "duration": 9,
    "start_time": "2022-07-29T20:45:44.548Z"
   },
   {
    "duration": 0,
    "start_time": "2022-07-29T20:45:44.559Z"
   },
   {
    "duration": 0,
    "start_time": "2022-07-29T20:45:44.560Z"
   },
   {
    "duration": 0,
    "start_time": "2022-07-29T20:45:44.561Z"
   },
   {
    "duration": 0,
    "start_time": "2022-07-29T20:45:44.562Z"
   },
   {
    "duration": 0,
    "start_time": "2022-07-29T20:45:44.564Z"
   },
   {
    "duration": 0,
    "start_time": "2022-07-29T20:45:44.565Z"
   },
   {
    "duration": 0,
    "start_time": "2022-07-29T20:45:44.566Z"
   },
   {
    "duration": 0,
    "start_time": "2022-07-29T20:45:44.567Z"
   },
   {
    "duration": 0,
    "start_time": "2022-07-29T20:45:44.569Z"
   },
   {
    "duration": 0,
    "start_time": "2022-07-29T20:45:44.570Z"
   },
   {
    "duration": 0,
    "start_time": "2022-07-29T20:45:44.572Z"
   },
   {
    "duration": 11,
    "start_time": "2022-07-29T20:45:44.623Z"
   },
   {
    "duration": 0,
    "start_time": "2022-07-29T20:45:44.636Z"
   },
   {
    "duration": 0,
    "start_time": "2022-07-29T20:45:44.637Z"
   },
   {
    "duration": 0,
    "start_time": "2022-07-29T20:45:44.638Z"
   },
   {
    "duration": 0,
    "start_time": "2022-07-29T20:45:44.639Z"
   },
   {
    "duration": 0,
    "start_time": "2022-07-29T20:45:44.640Z"
   },
   {
    "duration": 0,
    "start_time": "2022-07-29T20:45:44.641Z"
   },
   {
    "duration": 0,
    "start_time": "2022-07-29T20:45:44.643Z"
   },
   {
    "duration": 0,
    "start_time": "2022-07-29T20:45:44.644Z"
   },
   {
    "duration": 0,
    "start_time": "2022-07-29T20:45:44.645Z"
   },
   {
    "duration": 0,
    "start_time": "2022-07-29T20:45:44.646Z"
   },
   {
    "duration": 0,
    "start_time": "2022-07-29T20:45:44.648Z"
   },
   {
    "duration": 10,
    "start_time": "2022-07-29T20:46:32.348Z"
   },
   {
    "duration": 10,
    "start_time": "2022-07-29T20:46:32.361Z"
   },
   {
    "duration": 0,
    "start_time": "2022-07-29T20:46:32.373Z"
   },
   {
    "duration": 0,
    "start_time": "2022-07-29T20:46:32.374Z"
   },
   {
    "duration": 0,
    "start_time": "2022-07-29T20:46:32.375Z"
   },
   {
    "duration": 0,
    "start_time": "2022-07-29T20:46:32.376Z"
   },
   {
    "duration": 0,
    "start_time": "2022-07-29T20:46:32.377Z"
   },
   {
    "duration": 0,
    "start_time": "2022-07-29T20:46:32.378Z"
   },
   {
    "duration": 0,
    "start_time": "2022-07-29T20:46:32.379Z"
   },
   {
    "duration": 0,
    "start_time": "2022-07-29T20:46:32.380Z"
   },
   {
    "duration": 0,
    "start_time": "2022-07-29T20:46:32.381Z"
   },
   {
    "duration": 0,
    "start_time": "2022-07-29T20:46:32.382Z"
   },
   {
    "duration": 0,
    "start_time": "2022-07-29T20:46:32.383Z"
   },
   {
    "duration": 0,
    "start_time": "2022-07-29T20:46:32.384Z"
   },
   {
    "duration": 0,
    "start_time": "2022-07-29T20:46:32.385Z"
   },
   {
    "duration": 0,
    "start_time": "2022-07-29T20:46:32.386Z"
   },
   {
    "duration": 0,
    "start_time": "2022-07-29T20:46:32.387Z"
   },
   {
    "duration": 0,
    "start_time": "2022-07-29T20:46:32.388Z"
   },
   {
    "duration": 34,
    "start_time": "2022-07-29T20:46:32.391Z"
   },
   {
    "duration": 0,
    "start_time": "2022-07-29T20:46:32.426Z"
   },
   {
    "duration": 0,
    "start_time": "2022-07-29T20:46:32.427Z"
   },
   {
    "duration": 0,
    "start_time": "2022-07-29T20:46:32.428Z"
   },
   {
    "duration": 0,
    "start_time": "2022-07-29T20:46:32.429Z"
   },
   {
    "duration": 0,
    "start_time": "2022-07-29T20:46:32.430Z"
   },
   {
    "duration": 0,
    "start_time": "2022-07-29T20:46:32.431Z"
   },
   {
    "duration": 0,
    "start_time": "2022-07-29T20:46:32.432Z"
   },
   {
    "duration": 0,
    "start_time": "2022-07-29T20:46:32.433Z"
   },
   {
    "duration": 0,
    "start_time": "2022-07-29T20:46:32.434Z"
   },
   {
    "duration": 6543,
    "start_time": "2022-07-30T06:19:25.260Z"
   },
   {
    "duration": 66,
    "start_time": "2022-07-30T06:20:05.615Z"
   },
   {
    "duration": 7,
    "start_time": "2022-07-30T06:20:29.054Z"
   },
   {
    "duration": 575,
    "start_time": "2022-07-30T06:22:00.536Z"
   },
   {
    "duration": 9,
    "start_time": "2022-07-30T08:57:34.325Z"
   },
   {
    "duration": 2190,
    "start_time": "2022-07-30T08:57:41.831Z"
   },
   {
    "duration": 604,
    "start_time": "2022-07-30T08:57:44.023Z"
   },
   {
    "duration": 1783,
    "start_time": "2022-07-30T08:57:44.629Z"
   },
   {
    "duration": 140,
    "start_time": "2022-07-30T08:57:46.415Z"
   },
   {
    "duration": 30,
    "start_time": "2022-07-30T08:57:46.557Z"
   },
   {
    "duration": 9,
    "start_time": "2022-07-30T08:57:46.589Z"
   },
   {
    "duration": 47,
    "start_time": "2022-07-30T08:57:46.600Z"
   },
   {
    "duration": 244,
    "start_time": "2022-07-30T08:57:46.649Z"
   },
   {
    "duration": 5,
    "start_time": "2022-07-30T08:57:46.895Z"
   },
   {
    "duration": 9,
    "start_time": "2022-07-30T08:57:46.902Z"
   },
   {
    "duration": 8,
    "start_time": "2022-07-30T08:57:46.912Z"
   },
   {
    "duration": 9,
    "start_time": "2022-07-30T08:57:46.922Z"
   },
   {
    "duration": 28,
    "start_time": "2022-07-30T08:57:46.933Z"
   },
   {
    "duration": 12,
    "start_time": "2022-07-30T08:57:46.963Z"
   },
   {
    "duration": 964,
    "start_time": "2022-07-30T08:57:46.977Z"
   },
   {
    "duration": 6,
    "start_time": "2022-07-30T08:57:47.943Z"
   },
   {
    "duration": 616,
    "start_time": "2022-07-30T09:18:18.779Z"
   },
   {
    "duration": 590,
    "start_time": "2022-07-30T09:18:23.615Z"
   },
   {
    "duration": 70,
    "start_time": "2022-07-30T09:18:35.140Z"
   },
   {
    "duration": 76,
    "start_time": "2022-07-30T09:18:48.073Z"
   },
   {
    "duration": 37,
    "start_time": "2022-07-30T09:31:19.144Z"
   },
   {
    "duration": 9,
    "start_time": "2022-07-30T09:31:33.579Z"
   },
   {
    "duration": 10,
    "start_time": "2022-07-30T09:31:57.658Z"
   },
   {
    "duration": 921,
    "start_time": "2022-07-30T09:32:12.028Z"
   },
   {
    "duration": 2215,
    "start_time": "2022-07-30T09:32:27.936Z"
   },
   {
    "duration": 16,
    "start_time": "2022-07-30T09:32:30.154Z"
   },
   {
    "duration": 0,
    "start_time": "2022-07-30T09:32:30.172Z"
   },
   {
    "duration": 0,
    "start_time": "2022-07-30T09:32:30.173Z"
   },
   {
    "duration": 0,
    "start_time": "2022-07-30T09:32:30.173Z"
   },
   {
    "duration": 0,
    "start_time": "2022-07-30T09:32:30.174Z"
   },
   {
    "duration": 0,
    "start_time": "2022-07-30T09:32:30.175Z"
   },
   {
    "duration": 0,
    "start_time": "2022-07-30T09:32:30.176Z"
   },
   {
    "duration": 0,
    "start_time": "2022-07-30T09:32:30.177Z"
   },
   {
    "duration": 2201,
    "start_time": "2022-07-30T09:33:01.897Z"
   },
   {
    "duration": 3,
    "start_time": "2022-07-30T09:33:04.100Z"
   },
   {
    "duration": 10,
    "start_time": "2022-07-30T09:33:04.105Z"
   },
   {
    "duration": 57,
    "start_time": "2022-07-30T09:33:04.117Z"
   },
   {
    "duration": 15,
    "start_time": "2022-07-30T09:33:04.176Z"
   },
   {
    "duration": 6,
    "start_time": "2022-07-30T09:33:04.193Z"
   },
   {
    "duration": 16,
    "start_time": "2022-07-30T09:33:04.200Z"
   },
   {
    "duration": 183,
    "start_time": "2022-07-30T09:33:04.218Z"
   },
   {
    "duration": 161,
    "start_time": "2022-07-30T09:33:10.137Z"
   },
   {
    "duration": 837,
    "start_time": "2022-07-30T09:33:11.983Z"
   },
   {
    "duration": 28,
    "start_time": "2022-07-30T09:35:52.599Z"
   },
   {
    "duration": 9,
    "start_time": "2022-07-30T09:36:11.498Z"
   },
   {
    "duration": 19,
    "start_time": "2022-07-30T09:36:16.968Z"
   },
   {
    "duration": 8,
    "start_time": "2022-07-30T09:36:26.618Z"
   },
   {
    "duration": 5,
    "start_time": "2022-07-30T09:58:47.477Z"
   },
   {
    "duration": 8,
    "start_time": "2022-07-30T09:58:54.955Z"
   },
   {
    "duration": 6,
    "start_time": "2022-07-30T10:04:22.113Z"
   },
   {
    "duration": 18,
    "start_time": "2022-07-30T10:04:27.113Z"
   },
   {
    "duration": 22,
    "start_time": "2022-07-30T10:04:38.053Z"
   },
   {
    "duration": 6,
    "start_time": "2022-07-30T10:07:00.473Z"
   },
   {
    "duration": 11,
    "start_time": "2022-07-30T10:08:08.596Z"
   },
   {
    "duration": 14,
    "start_time": "2022-07-30T10:08:26.417Z"
   },
   {
    "duration": 6,
    "start_time": "2022-07-30T10:09:01.730Z"
   },
   {
    "duration": 20,
    "start_time": "2022-07-30T10:10:09.499Z"
   },
   {
    "duration": 7,
    "start_time": "2022-07-30T10:10:47.597Z"
   },
   {
    "duration": 5,
    "start_time": "2022-07-30T10:13:37.320Z"
   },
   {
    "duration": 4,
    "start_time": "2022-07-30T10:14:30.055Z"
   },
   {
    "duration": 4,
    "start_time": "2022-07-30T10:14:50.046Z"
   },
   {
    "duration": 6,
    "start_time": "2022-07-30T10:15:01.010Z"
   },
   {
    "duration": 10,
    "start_time": "2022-07-30T10:15:17.731Z"
   },
   {
    "duration": 19,
    "start_time": "2022-07-30T10:15:22.566Z"
   },
   {
    "duration": 7,
    "start_time": "2022-07-30T10:15:28.926Z"
   },
   {
    "duration": 4,
    "start_time": "2022-07-30T10:17:36.778Z"
   },
   {
    "duration": 2,
    "start_time": "2022-07-30T10:23:22.238Z"
   },
   {
    "duration": 2,
    "start_time": "2022-07-30T10:23:33.912Z"
   },
   {
    "duration": 9,
    "start_time": "2022-07-30T10:23:44.799Z"
   },
   {
    "duration": 36,
    "start_time": "2022-07-30T10:23:50.020Z"
   },
   {
    "duration": 5,
    "start_time": "2022-07-30T10:24:01.539Z"
   },
   {
    "duration": 21,
    "start_time": "2022-07-30T10:24:02.438Z"
   },
   {
    "duration": 37,
    "start_time": "2022-07-30T10:24:03.271Z"
   },
   {
    "duration": 34,
    "start_time": "2022-07-30T10:27:44.176Z"
   },
   {
    "duration": 2,
    "start_time": "2022-07-30T10:27:45.458Z"
   },
   {
    "duration": 5849,
    "start_time": "2022-07-30T10:27:51.588Z"
   },
   {
    "duration": 4,
    "start_time": "2022-07-30T10:27:57.440Z"
   },
   {
    "duration": 16,
    "start_time": "2022-07-30T10:27:57.446Z"
   },
   {
    "duration": 6,
    "start_time": "2022-07-30T10:27:57.464Z"
   },
   {
    "duration": 10,
    "start_time": "2022-07-30T10:27:57.471Z"
   },
   {
    "duration": 6,
    "start_time": "2022-07-30T10:27:57.723Z"
   },
   {
    "duration": 15230,
    "start_time": "2022-07-30T10:27:59.392Z"
   },
   {
    "duration": 4,
    "start_time": "2022-07-30T10:28:14.624Z"
   },
   {
    "duration": 15,
    "start_time": "2022-07-30T10:28:14.629Z"
   },
   {
    "duration": 46,
    "start_time": "2022-07-30T10:28:14.646Z"
   },
   {
    "duration": 12470,
    "start_time": "2022-07-30T10:28:14.694Z"
   },
   {
    "duration": 95,
    "start_time": "2022-07-30T10:28:27.167Z"
   },
   {
    "duration": 20,
    "start_time": "2022-07-30T10:28:27.264Z"
   },
   {
    "duration": 74,
    "start_time": "2022-07-30T10:28:27.286Z"
   },
   {
    "duration": 118,
    "start_time": "2022-07-30T10:28:27.368Z"
   },
   {
    "duration": 77,
    "start_time": "2022-07-30T10:28:27.488Z"
   },
   {
    "duration": 102,
    "start_time": "2022-07-30T10:28:27.567Z"
   },
   {
    "duration": 162,
    "start_time": "2022-07-30T10:28:27.671Z"
   },
   {
    "duration": 7,
    "start_time": "2022-07-30T10:28:27.835Z"
   },
   {
    "duration": 217,
    "start_time": "2022-07-30T10:28:27.843Z"
   },
   {
    "duration": 2145,
    "start_time": "2022-07-30T10:30:38.961Z"
   },
   {
    "duration": 3,
    "start_time": "2022-07-30T10:30:41.109Z"
   },
   {
    "duration": 9,
    "start_time": "2022-07-30T10:30:41.114Z"
   },
   {
    "duration": 48,
    "start_time": "2022-07-30T10:30:41.125Z"
   },
   {
    "duration": 12,
    "start_time": "2022-07-30T10:30:41.176Z"
   },
   {
    "duration": 7,
    "start_time": "2022-07-30T10:30:41.190Z"
   },
   {
    "duration": 13,
    "start_time": "2022-07-30T10:30:41.198Z"
   },
   {
    "duration": 185,
    "start_time": "2022-07-30T10:30:41.213Z"
   },
   {
    "duration": 8,
    "start_time": "2022-07-30T10:30:41.399Z"
   },
   {
    "duration": 4,
    "start_time": "2022-07-30T10:30:41.408Z"
   },
   {
    "duration": 8,
    "start_time": "2022-07-30T10:30:41.413Z"
   },
   {
    "duration": 7,
    "start_time": "2022-07-30T10:30:41.423Z"
   },
   {
    "duration": 7,
    "start_time": "2022-07-30T10:30:41.431Z"
   },
   {
    "duration": 14,
    "start_time": "2022-07-30T10:30:41.460Z"
   },
   {
    "duration": 12,
    "start_time": "2022-07-30T10:30:41.476Z"
   },
   {
    "duration": 921,
    "start_time": "2022-07-30T10:30:41.490Z"
   },
   {
    "duration": 5,
    "start_time": "2022-07-30T10:30:42.412Z"
   },
   {
    "duration": 10,
    "start_time": "2022-07-30T10:30:42.418Z"
   },
   {
    "duration": 9,
    "start_time": "2022-07-30T10:30:42.429Z"
   },
   {
    "duration": 8,
    "start_time": "2022-07-30T10:30:42.440Z"
   },
   {
    "duration": 20,
    "start_time": "2022-07-30T10:30:42.449Z"
   },
   {
    "duration": 17,
    "start_time": "2022-07-30T10:30:42.471Z"
   },
   {
    "duration": 6,
    "start_time": "2022-07-30T10:30:42.489Z"
   },
   {
    "duration": 6,
    "start_time": "2022-07-30T10:30:42.497Z"
   },
   {
    "duration": 31,
    "start_time": "2022-07-30T10:30:42.504Z"
   },
   {
    "duration": 55,
    "start_time": "2022-07-30T10:30:42.537Z"
   },
   {
    "duration": 2,
    "start_time": "2022-07-30T10:30:42.594Z"
   },
   {
    "duration": 5996,
    "start_time": "2022-07-30T10:30:42.597Z"
   },
   {
    "duration": 4,
    "start_time": "2022-07-30T10:30:48.595Z"
   },
   {
    "duration": 7,
    "start_time": "2022-07-30T10:30:48.600Z"
   },
   {
    "duration": 7,
    "start_time": "2022-07-30T10:30:48.609Z"
   },
   {
    "duration": 13,
    "start_time": "2022-07-30T10:30:48.618Z"
   },
   {
    "duration": 5,
    "start_time": "2022-07-30T10:30:48.633Z"
   },
   {
    "duration": 16188,
    "start_time": "2022-07-30T10:30:48.639Z"
   },
   {
    "duration": 4,
    "start_time": "2022-07-30T10:31:04.829Z"
   },
   {
    "duration": 10,
    "start_time": "2022-07-30T10:31:04.835Z"
   },
   {
    "duration": 32,
    "start_time": "2022-07-30T10:31:04.847Z"
   },
   {
    "duration": 13081,
    "start_time": "2022-07-30T10:31:04.881Z"
   },
   {
    "duration": 95,
    "start_time": "2022-07-30T10:31:17.965Z"
   },
   {
    "duration": 10,
    "start_time": "2022-07-30T10:31:18.062Z"
   },
   {
    "duration": 27,
    "start_time": "2022-07-30T10:31:18.076Z"
   },
   {
    "duration": 114,
    "start_time": "2022-07-30T10:31:18.164Z"
   },
   {
    "duration": 88,
    "start_time": "2022-07-30T10:31:18.280Z"
   },
   {
    "duration": 98,
    "start_time": "2022-07-30T10:31:18.370Z"
   },
   {
    "duration": 153,
    "start_time": "2022-07-30T10:31:18.470Z"
   },
   {
    "duration": 7,
    "start_time": "2022-07-30T10:31:18.625Z"
   },
   {
    "duration": 215,
    "start_time": "2022-07-30T10:31:18.634Z"
   },
   {
    "duration": 2156,
    "start_time": "2022-07-30T10:36:28.555Z"
   },
   {
    "duration": 3,
    "start_time": "2022-07-30T10:36:30.714Z"
   },
   {
    "duration": 16,
    "start_time": "2022-07-30T10:36:30.719Z"
   },
   {
    "duration": 46,
    "start_time": "2022-07-30T10:36:30.737Z"
   },
   {
    "duration": 13,
    "start_time": "2022-07-30T10:36:30.785Z"
   },
   {
    "duration": 15,
    "start_time": "2022-07-30T10:36:30.799Z"
   },
   {
    "duration": 16,
    "start_time": "2022-07-30T10:36:30.815Z"
   },
   {
    "duration": 183,
    "start_time": "2022-07-30T10:36:30.833Z"
   },
   {
    "duration": 9,
    "start_time": "2022-07-30T10:36:31.018Z"
   },
   {
    "duration": 11,
    "start_time": "2022-07-30T10:36:31.029Z"
   },
   {
    "duration": 19,
    "start_time": "2022-07-30T10:36:31.042Z"
   },
   {
    "duration": 20,
    "start_time": "2022-07-30T10:36:31.063Z"
   },
   {
    "duration": 12,
    "start_time": "2022-07-30T10:36:31.085Z"
   },
   {
    "duration": 22,
    "start_time": "2022-07-30T10:36:31.099Z"
   },
   {
    "duration": 19,
    "start_time": "2022-07-30T10:36:31.123Z"
   },
   {
    "duration": 853,
    "start_time": "2022-07-30T10:36:31.144Z"
   },
   {
    "duration": 5,
    "start_time": "2022-07-30T10:36:31.999Z"
   },
   {
    "duration": 22,
    "start_time": "2022-07-30T10:36:32.006Z"
   },
   {
    "duration": 8,
    "start_time": "2022-07-30T10:36:32.029Z"
   },
   {
    "duration": 7,
    "start_time": "2022-07-30T10:36:32.039Z"
   },
   {
    "duration": 19,
    "start_time": "2022-07-30T10:36:32.048Z"
   },
   {
    "duration": 17,
    "start_time": "2022-07-30T10:36:32.069Z"
   },
   {
    "duration": 6,
    "start_time": "2022-07-30T10:36:32.088Z"
   },
   {
    "duration": 6,
    "start_time": "2022-07-30T10:36:32.095Z"
   },
   {
    "duration": 28,
    "start_time": "2022-07-30T10:36:32.103Z"
   },
   {
    "duration": 59,
    "start_time": "2022-07-30T10:36:32.133Z"
   },
   {
    "duration": 3,
    "start_time": "2022-07-30T10:36:32.194Z"
   },
   {
    "duration": 6056,
    "start_time": "2022-07-30T10:36:32.200Z"
   },
   {
    "duration": 5,
    "start_time": "2022-07-30T10:36:38.258Z"
   },
   {
    "duration": 10,
    "start_time": "2022-07-30T10:36:38.265Z"
   },
   {
    "duration": 8,
    "start_time": "2022-07-30T10:36:38.276Z"
   },
   {
    "duration": 16,
    "start_time": "2022-07-30T10:36:38.285Z"
   },
   {
    "duration": 6,
    "start_time": "2022-07-30T10:36:38.303Z"
   },
   {
    "duration": 6980,
    "start_time": "2022-07-30T11:16:25.884Z"
   },
   {
    "duration": 51,
    "start_time": "2022-07-30T11:16:32.866Z"
   },
   {
    "duration": 0,
    "start_time": "2022-07-30T11:16:32.919Z"
   },
   {
    "duration": 0,
    "start_time": "2022-07-30T11:16:32.921Z"
   },
   {
    "duration": 0,
    "start_time": "2022-07-30T11:16:32.921Z"
   },
   {
    "duration": 0,
    "start_time": "2022-07-30T11:16:32.922Z"
   },
   {
    "duration": 0,
    "start_time": "2022-07-30T11:16:32.923Z"
   },
   {
    "duration": 0,
    "start_time": "2022-07-30T11:16:32.924Z"
   },
   {
    "duration": 0,
    "start_time": "2022-07-30T11:16:32.926Z"
   },
   {
    "duration": 0,
    "start_time": "2022-07-30T11:16:32.926Z"
   },
   {
    "duration": 0,
    "start_time": "2022-07-30T11:16:32.927Z"
   },
   {
    "duration": 0,
    "start_time": "2022-07-30T11:16:32.928Z"
   },
   {
    "duration": 0,
    "start_time": "2022-07-30T11:16:32.929Z"
   },
   {
    "duration": 0,
    "start_time": "2022-07-30T11:16:32.930Z"
   },
   {
    "duration": 0,
    "start_time": "2022-07-30T11:16:32.931Z"
   },
   {
    "duration": 0,
    "start_time": "2022-07-30T11:16:32.932Z"
   },
   {
    "duration": 0,
    "start_time": "2022-07-30T11:16:32.932Z"
   },
   {
    "duration": 0,
    "start_time": "2022-07-30T11:16:32.934Z"
   },
   {
    "duration": 0,
    "start_time": "2022-07-30T11:16:32.935Z"
   },
   {
    "duration": 0,
    "start_time": "2022-07-30T11:16:32.936Z"
   },
   {
    "duration": 0,
    "start_time": "2022-07-30T11:16:32.937Z"
   },
   {
    "duration": 0,
    "start_time": "2022-07-30T11:16:32.938Z"
   },
   {
    "duration": 0,
    "start_time": "2022-07-30T11:16:32.939Z"
   },
   {
    "duration": 0,
    "start_time": "2022-07-30T11:16:32.941Z"
   },
   {
    "duration": 0,
    "start_time": "2022-07-30T11:16:32.942Z"
   },
   {
    "duration": 0,
    "start_time": "2022-07-30T11:16:32.943Z"
   },
   {
    "duration": 0,
    "start_time": "2022-07-30T11:16:32.945Z"
   },
   {
    "duration": 0,
    "start_time": "2022-07-30T11:16:32.946Z"
   },
   {
    "duration": 0,
    "start_time": "2022-07-30T11:16:32.947Z"
   },
   {
    "duration": 0,
    "start_time": "2022-07-30T11:16:32.948Z"
   },
   {
    "duration": 0,
    "start_time": "2022-07-30T11:16:32.949Z"
   },
   {
    "duration": 0,
    "start_time": "2022-07-30T11:16:32.950Z"
   },
   {
    "duration": 0,
    "start_time": "2022-07-30T11:16:32.951Z"
   },
   {
    "duration": 0,
    "start_time": "2022-07-30T11:16:32.952Z"
   },
   {
    "duration": 0,
    "start_time": "2022-07-30T11:16:32.954Z"
   },
   {
    "duration": 0,
    "start_time": "2022-07-30T11:16:32.955Z"
   },
   {
    "duration": 0,
    "start_time": "2022-07-30T11:16:32.956Z"
   },
   {
    "duration": 0,
    "start_time": "2022-07-30T11:16:32.957Z"
   },
   {
    "duration": 0,
    "start_time": "2022-07-30T11:16:32.958Z"
   },
   {
    "duration": 0,
    "start_time": "2022-07-30T11:16:32.960Z"
   },
   {
    "duration": 0,
    "start_time": "2022-07-30T11:16:32.961Z"
   },
   {
    "duration": 0,
    "start_time": "2022-07-30T11:16:32.962Z"
   },
   {
    "duration": 0,
    "start_time": "2022-07-30T11:16:32.963Z"
   },
   {
    "duration": 0,
    "start_time": "2022-07-30T11:16:32.964Z"
   },
   {
    "duration": 0,
    "start_time": "2022-07-30T11:16:32.965Z"
   },
   {
    "duration": 0,
    "start_time": "2022-07-30T11:16:32.966Z"
   },
   {
    "duration": 0,
    "start_time": "2022-07-30T11:16:32.967Z"
   },
   {
    "duration": 2199,
    "start_time": "2022-07-30T11:16:50.601Z"
   },
   {
    "duration": 7,
    "start_time": "2022-07-30T11:16:53.763Z"
   },
   {
    "duration": 2207,
    "start_time": "2022-07-30T11:18:24.745Z"
   },
   {
    "duration": 794,
    "start_time": "2022-07-30T11:18:26.954Z"
   },
   {
    "duration": 668,
    "start_time": "2022-07-30T11:18:27.750Z"
   },
   {
    "duration": 76,
    "start_time": "2022-07-30T11:18:28.420Z"
   },
   {
    "duration": 16,
    "start_time": "2022-07-30T11:18:28.499Z"
   },
   {
    "duration": 4,
    "start_time": "2022-07-30T11:18:28.517Z"
   },
   {
    "duration": 14,
    "start_time": "2022-07-30T11:18:28.523Z"
   },
   {
    "duration": 152,
    "start_time": "2022-07-30T11:18:28.539Z"
   },
   {
    "duration": 8,
    "start_time": "2022-07-30T11:18:28.693Z"
   },
   {
    "duration": 3,
    "start_time": "2022-07-30T11:18:28.703Z"
   },
   {
    "duration": 7,
    "start_time": "2022-07-30T11:18:28.707Z"
   },
   {
    "duration": 6,
    "start_time": "2022-07-30T11:18:28.734Z"
   },
   {
    "duration": 8,
    "start_time": "2022-07-30T11:18:28.741Z"
   },
   {
    "duration": 9,
    "start_time": "2022-07-30T11:18:28.751Z"
   },
   {
    "duration": 10,
    "start_time": "2022-07-30T11:18:28.761Z"
   },
   {
    "duration": 822,
    "start_time": "2022-07-30T11:18:28.772Z"
   },
   {
    "duration": 5,
    "start_time": "2022-07-30T11:18:29.595Z"
   },
   {
    "duration": 8,
    "start_time": "2022-07-30T11:18:29.601Z"
   },
   {
    "duration": 6,
    "start_time": "2022-07-30T11:18:29.610Z"
   },
   {
    "duration": 6,
    "start_time": "2022-07-30T11:18:29.618Z"
   },
   {
    "duration": 15,
    "start_time": "2022-07-30T11:18:29.625Z"
   },
   {
    "duration": 19,
    "start_time": "2022-07-30T11:18:29.641Z"
   },
   {
    "duration": 5,
    "start_time": "2022-07-30T11:18:29.661Z"
   },
   {
    "duration": 5,
    "start_time": "2022-07-30T11:18:29.667Z"
   },
   {
    "duration": 25,
    "start_time": "2022-07-30T11:18:29.673Z"
   },
   {
    "duration": 58,
    "start_time": "2022-07-30T11:18:29.699Z"
   },
   {
    "duration": 2,
    "start_time": "2022-07-30T11:18:29.758Z"
   },
   {
    "duration": 6689,
    "start_time": "2022-07-30T11:18:29.761Z"
   },
   {
    "duration": 4,
    "start_time": "2022-07-30T11:18:36.451Z"
   },
   {
    "duration": 5,
    "start_time": "2022-07-30T11:18:36.456Z"
   },
   {
    "duration": 9,
    "start_time": "2022-07-30T11:18:36.463Z"
   },
   {
    "duration": 11,
    "start_time": "2022-07-30T11:18:36.473Z"
   },
   {
    "duration": 4,
    "start_time": "2022-07-30T11:18:36.486Z"
   },
   {
    "duration": 17728,
    "start_time": "2022-07-30T11:18:36.491Z"
   },
   {
    "duration": 4,
    "start_time": "2022-07-30T11:18:54.220Z"
   },
   {
    "duration": 3,
    "start_time": "2022-07-30T11:18:54.233Z"
   },
   {
    "duration": 19,
    "start_time": "2022-07-30T11:18:54.237Z"
   },
   {
    "duration": 7986,
    "start_time": "2022-07-30T11:18:54.257Z"
   },
   {
    "duration": 5,
    "start_time": "2022-07-30T11:19:02.334Z"
   },
   {
    "duration": 100,
    "start_time": "2022-07-30T11:19:02.340Z"
   },
   {
    "duration": 9,
    "start_time": "2022-07-30T11:19:02.443Z"
   },
   {
    "duration": 199,
    "start_time": "2022-07-30T11:19:02.454Z"
   },
   {
    "duration": 4,
    "start_time": "2022-07-30T11:19:02.656Z"
   },
   {
    "duration": 177,
    "start_time": "2022-07-30T11:19:02.662Z"
   },
   {
    "duration": 148,
    "start_time": "2022-07-30T11:19:02.840Z"
   },
   {
    "duration": 6,
    "start_time": "2022-07-30T11:19:02.989Z"
   },
   {
    "duration": 187,
    "start_time": "2022-07-30T11:19:02.996Z"
   },
   {
    "duration": 2305,
    "start_time": "2022-07-30T11:20:30.449Z"
   },
   {
    "duration": 782,
    "start_time": "2022-07-30T11:20:32.757Z"
   },
   {
    "duration": 473,
    "start_time": "2022-07-30T11:20:33.541Z"
   },
   {
    "duration": 39,
    "start_time": "2022-07-30T11:20:34.016Z"
   },
   {
    "duration": 20,
    "start_time": "2022-07-30T11:20:34.058Z"
   },
   {
    "duration": 6,
    "start_time": "2022-07-30T11:20:34.080Z"
   },
   {
    "duration": 15,
    "start_time": "2022-07-30T11:20:34.088Z"
   },
   {
    "duration": 181,
    "start_time": "2022-07-30T11:20:34.106Z"
   },
   {
    "duration": 9,
    "start_time": "2022-07-30T11:20:34.289Z"
   },
   {
    "duration": 4,
    "start_time": "2022-07-30T11:20:34.299Z"
   },
   {
    "duration": 7,
    "start_time": "2022-07-30T11:20:34.304Z"
   },
   {
    "duration": 26,
    "start_time": "2022-07-30T11:20:34.312Z"
   },
   {
    "duration": 7,
    "start_time": "2022-07-30T11:20:34.340Z"
   },
   {
    "duration": 9,
    "start_time": "2022-07-30T11:20:34.350Z"
   },
   {
    "duration": 11,
    "start_time": "2022-07-30T11:20:34.360Z"
   },
   {
    "duration": 853,
    "start_time": "2022-07-30T11:20:34.373Z"
   },
   {
    "duration": 5,
    "start_time": "2022-07-30T11:20:35.227Z"
   },
   {
    "duration": 10,
    "start_time": "2022-07-30T11:20:35.234Z"
   },
   {
    "duration": 5,
    "start_time": "2022-07-30T11:20:35.245Z"
   },
   {
    "duration": 9,
    "start_time": "2022-07-30T11:20:35.251Z"
   },
   {
    "duration": 13,
    "start_time": "2022-07-30T11:20:35.262Z"
   },
   {
    "duration": 20,
    "start_time": "2022-07-30T11:20:35.277Z"
   },
   {
    "duration": 6,
    "start_time": "2022-07-30T11:20:35.298Z"
   },
   {
    "duration": 27,
    "start_time": "2022-07-30T11:20:35.306Z"
   },
   {
    "duration": 24,
    "start_time": "2022-07-30T11:20:35.335Z"
   },
   {
    "duration": 42,
    "start_time": "2022-07-30T11:20:35.361Z"
   },
   {
    "duration": 3,
    "start_time": "2022-07-30T11:20:35.404Z"
   },
   {
    "duration": 6727,
    "start_time": "2022-07-30T11:20:35.409Z"
   },
   {
    "duration": 5,
    "start_time": "2022-07-30T11:20:42.138Z"
   },
   {
    "duration": 10,
    "start_time": "2022-07-30T11:20:42.144Z"
   },
   {
    "duration": 8,
    "start_time": "2022-07-30T11:20:42.156Z"
   },
   {
    "duration": 9,
    "start_time": "2022-07-30T11:20:42.166Z"
   },
   {
    "duration": 5,
    "start_time": "2022-07-30T11:20:42.177Z"
   },
   {
    "duration": 2231,
    "start_time": "2022-07-30T11:21:37.958Z"
   },
   {
    "duration": 746,
    "start_time": "2022-07-30T11:21:40.191Z"
   },
   {
    "duration": 498,
    "start_time": "2022-07-30T11:21:40.939Z"
   },
   {
    "duration": 39,
    "start_time": "2022-07-30T11:21:41.438Z"
   },
   {
    "duration": 18,
    "start_time": "2022-07-30T11:21:41.479Z"
   },
   {
    "duration": 6,
    "start_time": "2022-07-30T11:21:41.498Z"
   },
   {
    "duration": 31,
    "start_time": "2022-07-30T11:21:41.505Z"
   },
   {
    "duration": 167,
    "start_time": "2022-07-30T11:21:41.537Z"
   },
   {
    "duration": 8,
    "start_time": "2022-07-30T11:21:41.706Z"
   },
   {
    "duration": 3,
    "start_time": "2022-07-30T11:21:41.716Z"
   },
   {
    "duration": 18,
    "start_time": "2022-07-30T11:21:41.721Z"
   },
   {
    "duration": 9,
    "start_time": "2022-07-30T11:21:41.740Z"
   },
   {
    "duration": 8,
    "start_time": "2022-07-30T11:21:41.750Z"
   },
   {
    "duration": 10,
    "start_time": "2022-07-30T11:21:41.761Z"
   },
   {
    "duration": 14,
    "start_time": "2022-07-30T11:21:41.773Z"
   },
   {
    "duration": 814,
    "start_time": "2022-07-30T11:21:41.788Z"
   },
   {
    "duration": 6,
    "start_time": "2022-07-30T11:21:42.604Z"
   },
   {
    "duration": 14,
    "start_time": "2022-07-30T11:21:42.612Z"
   },
   {
    "duration": 10,
    "start_time": "2022-07-30T11:21:42.628Z"
   },
   {
    "duration": 13,
    "start_time": "2022-07-30T11:21:42.640Z"
   },
   {
    "duration": 17,
    "start_time": "2022-07-30T11:21:42.655Z"
   },
   {
    "duration": 27,
    "start_time": "2022-07-30T11:21:42.674Z"
   },
   {
    "duration": 7,
    "start_time": "2022-07-30T11:21:42.702Z"
   },
   {
    "duration": 22,
    "start_time": "2022-07-30T11:21:42.712Z"
   },
   {
    "duration": 43,
    "start_time": "2022-07-30T11:21:42.736Z"
   },
   {
    "duration": 33,
    "start_time": "2022-07-30T11:21:42.781Z"
   },
   {
    "duration": 2,
    "start_time": "2022-07-30T11:21:42.816Z"
   },
   {
    "duration": 6592,
    "start_time": "2022-07-30T11:21:42.819Z"
   },
   {
    "duration": 3,
    "start_time": "2022-07-30T11:21:49.413Z"
   },
   {
    "duration": 6,
    "start_time": "2022-07-30T11:21:49.417Z"
   },
   {
    "duration": 11,
    "start_time": "2022-07-30T11:21:49.425Z"
   },
   {
    "duration": 10,
    "start_time": "2022-07-30T11:21:49.437Z"
   },
   {
    "duration": 6,
    "start_time": "2022-07-30T11:21:49.449Z"
   },
   {
    "duration": 17553,
    "start_time": "2022-07-30T11:21:49.457Z"
   },
   {
    "duration": 4,
    "start_time": "2022-07-30T11:22:07.011Z"
   },
   {
    "duration": 8,
    "start_time": "2022-07-30T11:22:07.016Z"
   },
   {
    "duration": 22,
    "start_time": "2022-07-30T11:22:07.025Z"
   },
   {
    "duration": 7888,
    "start_time": "2022-07-30T11:22:07.048Z"
   },
   {
    "duration": 4,
    "start_time": "2022-07-30T11:22:14.937Z"
   },
   {
    "duration": 99,
    "start_time": "2022-07-30T11:22:14.943Z"
   },
   {
    "duration": 11,
    "start_time": "2022-07-30T11:22:15.045Z"
   },
   {
    "duration": 180,
    "start_time": "2022-07-30T11:22:15.058Z"
   },
   {
    "duration": 94,
    "start_time": "2022-07-30T11:22:15.244Z"
   },
   {
    "duration": 98,
    "start_time": "2022-07-30T11:22:15.345Z"
   },
   {
    "duration": 202,
    "start_time": "2022-07-30T11:22:15.445Z"
   },
   {
    "duration": 6,
    "start_time": "2022-07-30T11:22:15.649Z"
   },
   {
    "duration": 211,
    "start_time": "2022-07-30T11:22:15.657Z"
   },
   {
    "duration": 269,
    "start_time": "2022-07-30T11:25:09.896Z"
   },
   {
    "duration": 728,
    "start_time": "2022-07-30T11:25:22.972Z"
   },
   {
    "duration": 12,
    "start_time": "2022-07-30T11:50:08.764Z"
   },
   {
    "duration": 11,
    "start_time": "2022-07-30T11:50:12.714Z"
   },
   {
    "duration": 8,
    "start_time": "2022-07-30T11:52:12.656Z"
   },
   {
    "duration": 5,
    "start_time": "2022-07-30T11:52:42.264Z"
   },
   {
    "duration": 21280,
    "start_time": "2022-07-30T12:02:20.456Z"
   },
   {
    "duration": 8452,
    "start_time": "2022-07-30T12:05:14.284Z"
   },
   {
    "duration": 2127,
    "start_time": "2022-07-30T12:34:40.705Z"
   },
   {
    "duration": 19,
    "start_time": "2022-07-30T12:34:46.143Z"
   },
   {
    "duration": 2183,
    "start_time": "2022-07-30T12:34:50.546Z"
   },
   {
    "duration": 14,
    "start_time": "2022-07-30T12:35:29.564Z"
   },
   {
    "duration": 25,
    "start_time": "2022-07-30T12:36:58.655Z"
   },
   {
    "duration": 11,
    "start_time": "2022-07-30T12:43:32.736Z"
   },
   {
    "duration": 7731,
    "start_time": "2022-07-31T09:21:24.311Z"
   },
   {
    "duration": 62,
    "start_time": "2022-07-31T09:21:32.045Z"
   },
   {
    "duration": 0,
    "start_time": "2022-07-31T09:21:32.109Z"
   },
   {
    "duration": 0,
    "start_time": "2022-07-31T09:21:32.111Z"
   },
   {
    "duration": 0,
    "start_time": "2022-07-31T09:21:32.112Z"
   },
   {
    "duration": 0,
    "start_time": "2022-07-31T09:21:32.113Z"
   },
   {
    "duration": 0,
    "start_time": "2022-07-31T09:21:32.114Z"
   },
   {
    "duration": 0,
    "start_time": "2022-07-31T09:21:32.115Z"
   },
   {
    "duration": 0,
    "start_time": "2022-07-31T09:21:32.116Z"
   },
   {
    "duration": 0,
    "start_time": "2022-07-31T09:21:32.117Z"
   },
   {
    "duration": 0,
    "start_time": "2022-07-31T09:21:32.118Z"
   },
   {
    "duration": 0,
    "start_time": "2022-07-31T09:21:32.120Z"
   },
   {
    "duration": 0,
    "start_time": "2022-07-31T09:21:32.121Z"
   },
   {
    "duration": 0,
    "start_time": "2022-07-31T09:21:32.123Z"
   },
   {
    "duration": 0,
    "start_time": "2022-07-31T09:21:32.124Z"
   },
   {
    "duration": 0,
    "start_time": "2022-07-31T09:21:32.125Z"
   },
   {
    "duration": 0,
    "start_time": "2022-07-31T09:21:32.126Z"
   },
   {
    "duration": 0,
    "start_time": "2022-07-31T09:21:32.127Z"
   },
   {
    "duration": 0,
    "start_time": "2022-07-31T09:21:32.128Z"
   },
   {
    "duration": 0,
    "start_time": "2022-07-31T09:21:32.129Z"
   },
   {
    "duration": 0,
    "start_time": "2022-07-31T09:21:32.130Z"
   },
   {
    "duration": 0,
    "start_time": "2022-07-31T09:21:32.131Z"
   },
   {
    "duration": 0,
    "start_time": "2022-07-31T09:21:32.161Z"
   },
   {
    "duration": 0,
    "start_time": "2022-07-31T09:21:32.164Z"
   },
   {
    "duration": 0,
    "start_time": "2022-07-31T09:21:32.166Z"
   },
   {
    "duration": 0,
    "start_time": "2022-07-31T09:21:32.167Z"
   },
   {
    "duration": 0,
    "start_time": "2022-07-31T09:21:32.168Z"
   },
   {
    "duration": 0,
    "start_time": "2022-07-31T09:21:32.169Z"
   },
   {
    "duration": 0,
    "start_time": "2022-07-31T09:21:32.170Z"
   },
   {
    "duration": 0,
    "start_time": "2022-07-31T09:21:32.173Z"
   },
   {
    "duration": 0,
    "start_time": "2022-07-31T09:21:32.174Z"
   },
   {
    "duration": 0,
    "start_time": "2022-07-31T09:21:32.176Z"
   },
   {
    "duration": 0,
    "start_time": "2022-07-31T09:21:32.177Z"
   },
   {
    "duration": 0,
    "start_time": "2022-07-31T09:21:32.179Z"
   },
   {
    "duration": 0,
    "start_time": "2022-07-31T09:21:32.180Z"
   },
   {
    "duration": 0,
    "start_time": "2022-07-31T09:21:32.181Z"
   },
   {
    "duration": 0,
    "start_time": "2022-07-31T09:21:32.182Z"
   },
   {
    "duration": 0,
    "start_time": "2022-07-31T09:21:32.184Z"
   },
   {
    "duration": 0,
    "start_time": "2022-07-31T09:21:32.184Z"
   },
   {
    "duration": 0,
    "start_time": "2022-07-31T09:21:32.186Z"
   },
   {
    "duration": 0,
    "start_time": "2022-07-31T09:21:32.187Z"
   },
   {
    "duration": 0,
    "start_time": "2022-07-31T09:21:32.188Z"
   },
   {
    "duration": 0,
    "start_time": "2022-07-31T09:21:32.190Z"
   },
   {
    "duration": 0,
    "start_time": "2022-07-31T09:21:32.191Z"
   },
   {
    "duration": 0,
    "start_time": "2022-07-31T09:21:32.193Z"
   },
   {
    "duration": 0,
    "start_time": "2022-07-31T09:21:32.194Z"
   },
   {
    "duration": 0,
    "start_time": "2022-07-31T09:21:32.195Z"
   },
   {
    "duration": 0,
    "start_time": "2022-07-31T09:21:32.197Z"
   },
   {
    "duration": 2402,
    "start_time": "2022-07-31T09:23:24.956Z"
   },
   {
    "duration": 1203,
    "start_time": "2022-07-31T09:23:27.361Z"
   },
   {
    "duration": 998,
    "start_time": "2022-07-31T09:23:28.566Z"
   },
   {
    "duration": 80,
    "start_time": "2022-07-31T09:23:29.566Z"
   },
   {
    "duration": 16,
    "start_time": "2022-07-31T09:23:29.648Z"
   },
   {
    "duration": 4,
    "start_time": "2022-07-31T09:23:29.666Z"
   },
   {
    "duration": 10,
    "start_time": "2022-07-31T09:23:29.672Z"
   },
   {
    "duration": 171,
    "start_time": "2022-07-31T09:23:29.683Z"
   },
   {
    "duration": 8,
    "start_time": "2022-07-31T09:23:29.860Z"
   },
   {
    "duration": 20,
    "start_time": "2022-07-31T09:23:29.870Z"
   },
   {
    "duration": 7,
    "start_time": "2022-07-31T09:23:29.892Z"
   },
   {
    "duration": 6,
    "start_time": "2022-07-31T09:23:29.901Z"
   },
   {
    "duration": 7,
    "start_time": "2022-07-31T09:23:29.908Z"
   },
   {
    "duration": 9,
    "start_time": "2022-07-31T09:23:29.917Z"
   },
   {
    "duration": 41,
    "start_time": "2022-07-31T09:23:29.928Z"
   },
   {
    "duration": 822,
    "start_time": "2022-07-31T09:23:29.970Z"
   },
   {
    "duration": 4,
    "start_time": "2022-07-31T09:23:30.794Z"
   },
   {
    "duration": 23,
    "start_time": "2022-07-31T09:23:30.800Z"
   },
   {
    "duration": 26,
    "start_time": "2022-07-31T09:23:30.825Z"
   },
   {
    "duration": 8,
    "start_time": "2022-07-31T09:23:30.853Z"
   },
   {
    "duration": 14,
    "start_time": "2022-07-31T09:23:30.864Z"
   },
   {
    "duration": 23,
    "start_time": "2022-07-31T09:23:30.880Z"
   },
   {
    "duration": 4,
    "start_time": "2022-07-31T09:23:30.905Z"
   },
   {
    "duration": 17,
    "start_time": "2022-07-31T09:23:30.911Z"
   },
   {
    "duration": 40,
    "start_time": "2022-07-31T09:23:30.930Z"
   },
   {
    "duration": 35,
    "start_time": "2022-07-31T09:23:30.972Z"
   },
   {
    "duration": 2,
    "start_time": "2022-07-31T09:23:31.009Z"
   },
   {
    "duration": 5777,
    "start_time": "2022-07-31T09:23:31.013Z"
   },
   {
    "duration": 4,
    "start_time": "2022-07-31T09:23:36.792Z"
   },
   {
    "duration": 20,
    "start_time": "2022-07-31T09:23:36.798Z"
   },
   {
    "duration": 36,
    "start_time": "2022-07-31T09:23:36.820Z"
   },
   {
    "duration": 19,
    "start_time": "2022-07-31T09:23:36.858Z"
   },
   {
    "duration": 16,
    "start_time": "2022-07-31T09:23:36.879Z"
   },
   {
    "duration": 16991,
    "start_time": "2022-07-31T09:23:36.897Z"
   },
   {
    "duration": 3,
    "start_time": "2022-07-31T09:23:53.890Z"
   },
   {
    "duration": 8,
    "start_time": "2022-07-31T09:23:53.895Z"
   },
   {
    "duration": 30,
    "start_time": "2022-07-31T09:23:53.905Z"
   },
   {
    "duration": 11531,
    "start_time": "2022-07-31T09:23:53.937Z"
   },
   {
    "duration": 91,
    "start_time": "2022-07-31T09:24:05.471Z"
   },
   {
    "duration": 11,
    "start_time": "2022-07-31T09:24:05.564Z"
   },
   {
    "duration": 10,
    "start_time": "2022-07-31T09:24:05.578Z"
   },
   {
    "duration": 132,
    "start_time": "2022-07-31T09:24:05.660Z"
   },
   {
    "duration": 97,
    "start_time": "2022-07-31T09:24:05.865Z"
   },
   {
    "duration": 14,
    "start_time": "2022-07-31T09:24:05.964Z"
   },
   {
    "duration": 10,
    "start_time": "2022-07-31T09:24:05.980Z"
   },
   {
    "duration": 151,
    "start_time": "2022-07-31T09:24:05.991Z"
   },
   {
    "duration": 17,
    "start_time": "2022-07-31T09:24:06.144Z"
   },
   {
    "duration": 274,
    "start_time": "2022-07-31T09:24:06.163Z"
   },
   {
    "duration": 125,
    "start_time": "2022-07-31T11:17:14.513Z"
   },
   {
    "duration": 27,
    "start_time": "2022-07-31T11:18:02.445Z"
   },
   {
    "duration": 33,
    "start_time": "2022-07-31T11:19:05.547Z"
   },
   {
    "duration": 2536,
    "start_time": "2022-07-31T11:19:14.550Z"
   },
   {
    "duration": 3,
    "start_time": "2022-07-31T11:19:17.089Z"
   },
   {
    "duration": 10,
    "start_time": "2022-07-31T11:19:17.093Z"
   },
   {
    "duration": 45,
    "start_time": "2022-07-31T11:19:17.104Z"
   },
   {
    "duration": 23,
    "start_time": "2022-07-31T11:19:17.151Z"
   },
   {
    "duration": 7,
    "start_time": "2022-07-31T11:19:17.176Z"
   },
   {
    "duration": 12,
    "start_time": "2022-07-31T11:19:17.185Z"
   },
   {
    "duration": 183,
    "start_time": "2022-07-31T11:19:17.198Z"
   },
   {
    "duration": 8,
    "start_time": "2022-07-31T11:19:17.383Z"
   },
   {
    "duration": 33,
    "start_time": "2022-07-31T11:19:17.392Z"
   },
   {
    "duration": 11,
    "start_time": "2022-07-31T11:19:17.427Z"
   },
   {
    "duration": 7,
    "start_time": "2022-07-31T11:19:17.440Z"
   },
   {
    "duration": 10,
    "start_time": "2022-07-31T11:19:17.470Z"
   },
   {
    "duration": 9,
    "start_time": "2022-07-31T11:19:17.483Z"
   },
   {
    "duration": 9,
    "start_time": "2022-07-31T11:19:17.493Z"
   },
   {
    "duration": 886,
    "start_time": "2022-07-31T11:19:17.504Z"
   },
   {
    "duration": 4,
    "start_time": "2022-07-31T11:19:18.392Z"
   },
   {
    "duration": 9,
    "start_time": "2022-07-31T11:19:18.398Z"
   },
   {
    "duration": 7,
    "start_time": "2022-07-31T11:19:18.409Z"
   },
   {
    "duration": 6,
    "start_time": "2022-07-31T11:19:18.418Z"
   },
   {
    "duration": 13,
    "start_time": "2022-07-31T11:19:18.426Z"
   },
   {
    "duration": 29,
    "start_time": "2022-07-31T11:19:18.460Z"
   },
   {
    "duration": 24,
    "start_time": "2022-07-31T11:19:18.491Z"
   },
   {
    "duration": 57,
    "start_time": "2022-07-31T11:19:18.517Z"
   },
   {
    "duration": 2,
    "start_time": "2022-07-31T11:19:18.576Z"
   },
   {
    "duration": 7297,
    "start_time": "2022-07-31T11:19:18.580Z"
   },
   {
    "duration": 4,
    "start_time": "2022-07-31T11:19:25.878Z"
   },
   {
    "duration": 27,
    "start_time": "2022-07-31T11:19:25.884Z"
   },
   {
    "duration": 32,
    "start_time": "2022-07-31T11:19:25.913Z"
   },
   {
    "duration": 37,
    "start_time": "2022-07-31T11:19:25.947Z"
   },
   {
    "duration": 8,
    "start_time": "2022-07-31T11:19:25.991Z"
   },
   {
    "duration": 18733,
    "start_time": "2022-07-31T11:19:26.000Z"
   },
   {
    "duration": 3,
    "start_time": "2022-07-31T11:19:44.735Z"
   },
   {
    "duration": 7,
    "start_time": "2022-07-31T11:19:44.740Z"
   },
   {
    "duration": 37,
    "start_time": "2022-07-31T11:19:44.748Z"
   },
   {
    "duration": 29684,
    "start_time": "2022-07-31T11:19:44.787Z"
   },
   {
    "duration": 9,
    "start_time": "2022-07-31T11:20:14.473Z"
   },
   {
    "duration": 104,
    "start_time": "2022-07-31T11:20:14.484Z"
   },
   {
    "duration": 18,
    "start_time": "2022-07-31T11:20:14.589Z"
   },
   {
    "duration": 127,
    "start_time": "2022-07-31T11:20:14.669Z"
   },
   {
    "duration": 14,
    "start_time": "2022-07-31T11:20:14.869Z"
   },
   {
    "duration": 95,
    "start_time": "2022-07-31T11:20:14.886Z"
   },
   {
    "duration": 24,
    "start_time": "2022-07-31T11:20:14.982Z"
   },
   {
    "duration": 193,
    "start_time": "2022-07-31T11:20:15.008Z"
   },
   {
    "duration": 7,
    "start_time": "2022-07-31T11:20:15.202Z"
   },
   {
    "duration": 229,
    "start_time": "2022-07-31T11:20:15.211Z"
   },
   {
    "duration": 7919,
    "start_time": "2022-07-31T21:54:27.691Z"
   },
   {
    "duration": 45,
    "start_time": "2022-07-31T21:54:35.613Z"
   },
   {
    "duration": 0,
    "start_time": "2022-07-31T21:54:35.660Z"
   },
   {
    "duration": 0,
    "start_time": "2022-07-31T21:54:35.662Z"
   },
   {
    "duration": 0,
    "start_time": "2022-07-31T21:54:35.663Z"
   },
   {
    "duration": 0,
    "start_time": "2022-07-31T21:54:35.664Z"
   },
   {
    "duration": 0,
    "start_time": "2022-07-31T21:54:35.665Z"
   },
   {
    "duration": 0,
    "start_time": "2022-07-31T21:54:35.666Z"
   },
   {
    "duration": 0,
    "start_time": "2022-07-31T21:54:35.667Z"
   },
   {
    "duration": 0,
    "start_time": "2022-07-31T21:54:35.668Z"
   },
   {
    "duration": 0,
    "start_time": "2022-07-31T21:54:35.669Z"
   },
   {
    "duration": 0,
    "start_time": "2022-07-31T21:54:35.670Z"
   },
   {
    "duration": 0,
    "start_time": "2022-07-31T21:54:35.671Z"
   },
   {
    "duration": 0,
    "start_time": "2022-07-31T21:54:35.672Z"
   },
   {
    "duration": 0,
    "start_time": "2022-07-31T21:54:35.673Z"
   },
   {
    "duration": 0,
    "start_time": "2022-07-31T21:54:35.674Z"
   },
   {
    "duration": 0,
    "start_time": "2022-07-31T21:54:35.676Z"
   },
   {
    "duration": 0,
    "start_time": "2022-07-31T21:54:35.678Z"
   },
   {
    "duration": 0,
    "start_time": "2022-07-31T21:54:35.679Z"
   },
   {
    "duration": 0,
    "start_time": "2022-07-31T21:54:35.681Z"
   },
   {
    "duration": 0,
    "start_time": "2022-07-31T21:54:35.682Z"
   },
   {
    "duration": 0,
    "start_time": "2022-07-31T21:54:35.684Z"
   },
   {
    "duration": 0,
    "start_time": "2022-07-31T21:54:35.685Z"
   },
   {
    "duration": 0,
    "start_time": "2022-07-31T21:54:35.686Z"
   },
   {
    "duration": 0,
    "start_time": "2022-07-31T21:54:35.688Z"
   },
   {
    "duration": 0,
    "start_time": "2022-07-31T21:54:35.689Z"
   },
   {
    "duration": 0,
    "start_time": "2022-07-31T21:54:35.691Z"
   },
   {
    "duration": 0,
    "start_time": "2022-07-31T21:54:35.692Z"
   },
   {
    "duration": 0,
    "start_time": "2022-07-31T21:54:35.693Z"
   },
   {
    "duration": 0,
    "start_time": "2022-07-31T21:54:35.694Z"
   },
   {
    "duration": 0,
    "start_time": "2022-07-31T21:54:35.695Z"
   },
   {
    "duration": 0,
    "start_time": "2022-07-31T21:54:35.696Z"
   },
   {
    "duration": 0,
    "start_time": "2022-07-31T21:54:35.698Z"
   },
   {
    "duration": 0,
    "start_time": "2022-07-31T21:54:35.698Z"
   },
   {
    "duration": 0,
    "start_time": "2022-07-31T21:54:35.700Z"
   },
   {
    "duration": 0,
    "start_time": "2022-07-31T21:54:35.701Z"
   },
   {
    "duration": 0,
    "start_time": "2022-07-31T21:54:35.702Z"
   },
   {
    "duration": 0,
    "start_time": "2022-07-31T21:54:35.703Z"
   },
   {
    "duration": 0,
    "start_time": "2022-07-31T21:54:35.760Z"
   },
   {
    "duration": 0,
    "start_time": "2022-07-31T21:54:35.762Z"
   },
   {
    "duration": 0,
    "start_time": "2022-07-31T21:54:35.763Z"
   },
   {
    "duration": 0,
    "start_time": "2022-07-31T21:54:35.764Z"
   },
   {
    "duration": 0,
    "start_time": "2022-07-31T21:54:35.765Z"
   },
   {
    "duration": 0,
    "start_time": "2022-07-31T21:54:35.766Z"
   },
   {
    "duration": 0,
    "start_time": "2022-07-31T21:54:35.766Z"
   },
   {
    "duration": 0,
    "start_time": "2022-07-31T21:54:35.767Z"
   },
   {
    "duration": 2362,
    "start_time": "2022-07-31T21:56:24.506Z"
   },
   {
    "duration": 879,
    "start_time": "2022-07-31T21:56:26.870Z"
   },
   {
    "duration": 469,
    "start_time": "2022-07-31T21:56:27.751Z"
   },
   {
    "duration": 81,
    "start_time": "2022-07-31T21:56:28.221Z"
   },
   {
    "duration": 17,
    "start_time": "2022-07-31T21:56:28.304Z"
   },
   {
    "duration": 9,
    "start_time": "2022-07-31T21:56:28.322Z"
   },
   {
    "duration": 15,
    "start_time": "2022-07-31T21:56:28.333Z"
   },
   {
    "duration": 157,
    "start_time": "2022-07-31T21:56:28.350Z"
   },
   {
    "duration": 8,
    "start_time": "2022-07-31T21:56:28.508Z"
   },
   {
    "duration": 21,
    "start_time": "2022-07-31T21:56:28.517Z"
   },
   {
    "duration": 22,
    "start_time": "2022-07-31T21:56:28.539Z"
   },
   {
    "duration": 6,
    "start_time": "2022-07-31T21:56:28.562Z"
   },
   {
    "duration": 7,
    "start_time": "2022-07-31T21:56:28.569Z"
   },
   {
    "duration": 9,
    "start_time": "2022-07-31T21:56:28.579Z"
   },
   {
    "duration": 11,
    "start_time": "2022-07-31T21:56:28.589Z"
   },
   {
    "duration": 842,
    "start_time": "2022-07-31T21:56:28.602Z"
   },
   {
    "duration": 4,
    "start_time": "2022-07-31T21:56:29.446Z"
   },
   {
    "duration": 14,
    "start_time": "2022-07-31T21:56:29.452Z"
   },
   {
    "duration": 4,
    "start_time": "2022-07-31T21:56:29.467Z"
   },
   {
    "duration": 6,
    "start_time": "2022-07-31T21:56:29.473Z"
   },
   {
    "duration": 26,
    "start_time": "2022-07-31T21:56:29.480Z"
   },
   {
    "duration": 25,
    "start_time": "2022-07-31T21:56:29.508Z"
   },
   {
    "duration": 38,
    "start_time": "2022-07-31T21:56:29.535Z"
   },
   {
    "duration": 36,
    "start_time": "2022-07-31T21:56:29.575Z"
   },
   {
    "duration": 3,
    "start_time": "2022-07-31T21:56:29.613Z"
   },
   {
    "duration": 7241,
    "start_time": "2022-07-31T21:56:29.617Z"
   },
   {
    "duration": 4,
    "start_time": "2022-07-31T21:56:36.859Z"
   },
   {
    "duration": 9,
    "start_time": "2022-07-31T21:56:36.865Z"
   },
   {
    "duration": 9,
    "start_time": "2022-07-31T21:56:36.876Z"
   },
   {
    "duration": 13,
    "start_time": "2022-07-31T21:56:36.886Z"
   },
   {
    "duration": 6,
    "start_time": "2022-07-31T21:56:36.900Z"
   },
   {
    "duration": 18073,
    "start_time": "2022-07-31T21:56:36.908Z"
   },
   {
    "duration": 4,
    "start_time": "2022-07-31T21:56:54.983Z"
   },
   {
    "duration": 7,
    "start_time": "2022-07-31T21:56:54.988Z"
   },
   {
    "duration": 29,
    "start_time": "2022-07-31T21:56:54.996Z"
   },
   {
    "duration": 18733,
    "start_time": "2022-07-31T21:56:55.027Z"
   },
   {
    "duration": 5,
    "start_time": "2022-07-31T21:57:13.763Z"
   },
   {
    "duration": 101,
    "start_time": "2022-07-31T21:57:13.770Z"
   },
   {
    "duration": 16,
    "start_time": "2022-07-31T21:57:13.873Z"
   },
   {
    "duration": 193,
    "start_time": "2022-07-31T21:57:13.892Z"
   },
   {
    "duration": 77,
    "start_time": "2022-07-31T21:57:14.091Z"
   },
   {
    "duration": 101,
    "start_time": "2022-07-31T21:57:14.170Z"
   },
   {
    "duration": 15,
    "start_time": "2022-07-31T21:57:14.273Z"
   },
   {
    "duration": 272,
    "start_time": "2022-07-31T21:57:14.290Z"
   },
   {
    "duration": 8,
    "start_time": "2022-07-31T21:57:14.563Z"
   },
   {
    "duration": 220,
    "start_time": "2022-07-31T21:57:14.573Z"
   },
   {
    "duration": 4,
    "start_time": "2022-07-31T21:59:23.372Z"
   },
   {
    "duration": 2383,
    "start_time": "2022-07-31T22:03:45.614Z"
   },
   {
    "duration": 780,
    "start_time": "2022-07-31T22:03:47.999Z"
   },
   {
    "duration": 519,
    "start_time": "2022-07-31T22:03:48.781Z"
   },
   {
    "duration": 41,
    "start_time": "2022-07-31T22:03:49.302Z"
   },
   {
    "duration": 18,
    "start_time": "2022-07-31T22:03:49.345Z"
   },
   {
    "duration": 9,
    "start_time": "2022-07-31T22:03:49.364Z"
   },
   {
    "duration": 13,
    "start_time": "2022-07-31T22:03:49.375Z"
   },
   {
    "duration": 188,
    "start_time": "2022-07-31T22:03:49.389Z"
   },
   {
    "duration": 9,
    "start_time": "2022-07-31T22:03:49.578Z"
   },
   {
    "duration": 20,
    "start_time": "2022-07-31T22:03:49.589Z"
   },
   {
    "duration": 10,
    "start_time": "2022-07-31T22:03:49.611Z"
   },
   {
    "duration": 17,
    "start_time": "2022-07-31T22:03:49.623Z"
   },
   {
    "duration": 28,
    "start_time": "2022-07-31T22:03:49.642Z"
   },
   {
    "duration": 17,
    "start_time": "2022-07-31T22:03:49.674Z"
   },
   {
    "duration": 15,
    "start_time": "2022-07-31T22:03:49.693Z"
   },
   {
    "duration": 894,
    "start_time": "2022-07-31T22:03:49.710Z"
   },
   {
    "duration": 5,
    "start_time": "2022-07-31T22:03:50.605Z"
   },
   {
    "duration": 11,
    "start_time": "2022-07-31T22:03:50.611Z"
   },
   {
    "duration": 7,
    "start_time": "2022-07-31T22:03:50.624Z"
   },
   {
    "duration": 13,
    "start_time": "2022-07-31T22:03:50.632Z"
   },
   {
    "duration": 12,
    "start_time": "2022-07-31T22:03:50.647Z"
   },
   {
    "duration": 17,
    "start_time": "2022-07-31T22:03:50.660Z"
   },
   {
    "duration": 29,
    "start_time": "2022-07-31T22:03:50.679Z"
   },
   {
    "duration": 59,
    "start_time": "2022-07-31T22:03:50.709Z"
   },
   {
    "duration": 2,
    "start_time": "2022-07-31T22:03:50.770Z"
   },
   {
    "duration": 4619,
    "start_time": "2022-07-31T22:03:50.774Z"
   },
   {
    "duration": 5,
    "start_time": "2022-07-31T22:03:55.395Z"
   },
   {
    "duration": 10,
    "start_time": "2022-07-31T22:03:55.401Z"
   },
   {
    "duration": 7,
    "start_time": "2022-07-31T22:03:55.412Z"
   },
   {
    "duration": 17,
    "start_time": "2022-07-31T22:03:55.420Z"
   },
   {
    "duration": 5,
    "start_time": "2022-07-31T22:03:55.439Z"
   },
   {
    "duration": 14065,
    "start_time": "2022-07-31T22:03:55.445Z"
   },
   {
    "duration": 4,
    "start_time": "2022-07-31T22:04:09.511Z"
   },
   {
    "duration": 9,
    "start_time": "2022-07-31T22:04:09.516Z"
   },
   {
    "duration": 47,
    "start_time": "2022-07-31T22:04:09.526Z"
   },
   {
    "duration": 14195,
    "start_time": "2022-07-31T22:04:09.575Z"
   },
   {
    "duration": 7,
    "start_time": "2022-07-31T22:04:23.862Z"
   },
   {
    "duration": 7,
    "start_time": "2022-07-31T22:04:23.961Z"
   },
   {
    "duration": 10,
    "start_time": "2022-07-31T22:04:23.970Z"
   },
   {
    "duration": 213,
    "start_time": "2022-07-31T22:04:23.984Z"
   },
   {
    "duration": 160,
    "start_time": "2022-07-31T22:04:24.202Z"
   },
   {
    "duration": 10,
    "start_time": "2022-07-31T22:04:24.364Z"
   },
   {
    "duration": 15,
    "start_time": "2022-07-31T22:04:24.376Z"
   },
   {
    "duration": 234,
    "start_time": "2022-07-31T22:04:24.392Z"
   },
   {
    "duration": 8,
    "start_time": "2022-07-31T22:04:24.628Z"
   },
   {
    "duration": 201,
    "start_time": "2022-07-31T22:04:24.637Z"
   },
   {
    "duration": 24,
    "start_time": "2022-07-31T22:04:27.575Z"
   },
   {
    "duration": 4,
    "start_time": "2022-07-31T22:04:48.670Z"
   },
   {
    "duration": 26,
    "start_time": "2022-07-31T22:04:59.707Z"
   },
   {
    "duration": 2300,
    "start_time": "2022-07-31T22:05:07.149Z"
   },
   {
    "duration": 770,
    "start_time": "2022-07-31T22:05:09.452Z"
   },
   {
    "duration": 476,
    "start_time": "2022-07-31T22:05:10.225Z"
   },
   {
    "duration": 43,
    "start_time": "2022-07-31T22:05:10.702Z"
   },
   {
    "duration": 17,
    "start_time": "2022-07-31T22:05:10.747Z"
   },
   {
    "duration": 15,
    "start_time": "2022-07-31T22:05:10.766Z"
   },
   {
    "duration": 12,
    "start_time": "2022-07-31T22:05:10.784Z"
   },
   {
    "duration": 176,
    "start_time": "2022-07-31T22:05:10.797Z"
   },
   {
    "duration": 8,
    "start_time": "2022-07-31T22:05:10.975Z"
   },
   {
    "duration": 27,
    "start_time": "2022-07-31T22:05:10.985Z"
   },
   {
    "duration": 5,
    "start_time": "2022-07-31T22:05:11.014Z"
   },
   {
    "duration": 9,
    "start_time": "2022-07-31T22:05:11.021Z"
   },
   {
    "duration": 9,
    "start_time": "2022-07-31T22:05:11.031Z"
   },
   {
    "duration": 9,
    "start_time": "2022-07-31T22:05:11.062Z"
   },
   {
    "duration": 11,
    "start_time": "2022-07-31T22:05:11.073Z"
   },
   {
    "duration": 846,
    "start_time": "2022-07-31T22:05:11.086Z"
   },
   {
    "duration": 5,
    "start_time": "2022-07-31T22:05:11.934Z"
   },
   {
    "duration": 14,
    "start_time": "2022-07-31T22:05:11.940Z"
   },
   {
    "duration": 7,
    "start_time": "2022-07-31T22:05:11.955Z"
   },
   {
    "duration": 6,
    "start_time": "2022-07-31T22:05:11.963Z"
   },
   {
    "duration": 16,
    "start_time": "2022-07-31T22:05:11.970Z"
   },
   {
    "duration": 27,
    "start_time": "2022-07-31T22:05:11.987Z"
   },
   {
    "duration": 25,
    "start_time": "2022-07-31T22:05:12.016Z"
   },
   {
    "duration": 51,
    "start_time": "2022-07-31T22:05:12.043Z"
   },
   {
    "duration": 2,
    "start_time": "2022-07-31T22:05:12.096Z"
   },
   {
    "duration": 7472,
    "start_time": "2022-07-31T22:05:12.100Z"
   },
   {
    "duration": 4,
    "start_time": "2022-07-31T22:05:19.573Z"
   },
   {
    "duration": 22,
    "start_time": "2022-07-31T22:05:19.579Z"
   },
   {
    "duration": 19,
    "start_time": "2022-07-31T22:05:19.603Z"
   },
   {
    "duration": 24,
    "start_time": "2022-07-31T22:05:19.624Z"
   },
   {
    "duration": 19,
    "start_time": "2022-07-31T22:05:19.650Z"
   },
   {
    "duration": 18257,
    "start_time": "2022-07-31T22:05:19.670Z"
   },
   {
    "duration": 5,
    "start_time": "2022-07-31T22:05:37.929Z"
   },
   {
    "duration": 5,
    "start_time": "2022-07-31T22:05:37.935Z"
   },
   {
    "duration": 48,
    "start_time": "2022-07-31T22:05:37.941Z"
   },
   {
    "duration": 17770,
    "start_time": "2022-07-31T22:05:37.991Z"
   },
   {
    "duration": 5,
    "start_time": "2022-07-31T22:05:55.764Z"
   },
   {
    "duration": 17,
    "start_time": "2022-07-31T22:05:55.861Z"
   },
   {
    "duration": 12,
    "start_time": "2022-07-31T22:05:55.879Z"
   },
   {
    "duration": 199,
    "start_time": "2022-07-31T22:05:55.893Z"
   },
   {
    "duration": 100,
    "start_time": "2022-07-31T22:05:56.162Z"
   },
   {
    "duration": 11,
    "start_time": "2022-07-31T22:05:56.264Z"
   },
   {
    "duration": 21,
    "start_time": "2022-07-31T22:05:56.277Z"
   },
   {
    "duration": 285,
    "start_time": "2022-07-31T22:05:56.300Z"
   },
   {
    "duration": 7,
    "start_time": "2022-07-31T22:05:56.587Z"
   },
   {
    "duration": 184,
    "start_time": "2022-07-31T22:05:56.595Z"
   },
   {
    "duration": 1798,
    "start_time": "2022-08-02T11:05:22.389Z"
   },
   {
    "duration": 8514,
    "start_time": "2022-08-02T11:05:32.694Z"
   },
   {
    "duration": 154,
    "start_time": "2022-08-02T11:05:41.211Z"
   },
   {
    "duration": 0,
    "start_time": "2022-08-02T11:05:41.370Z"
   },
   {
    "duration": 0,
    "start_time": "2022-08-02T11:05:41.371Z"
   },
   {
    "duration": 0,
    "start_time": "2022-08-02T11:05:41.372Z"
   },
   {
    "duration": 0,
    "start_time": "2022-08-02T11:05:41.374Z"
   },
   {
    "duration": 0,
    "start_time": "2022-08-02T11:05:41.375Z"
   },
   {
    "duration": 0,
    "start_time": "2022-08-02T11:05:41.377Z"
   },
   {
    "duration": 0,
    "start_time": "2022-08-02T11:05:41.378Z"
   },
   {
    "duration": 0,
    "start_time": "2022-08-02T11:05:41.380Z"
   },
   {
    "duration": 1,
    "start_time": "2022-08-02T11:05:41.380Z"
   },
   {
    "duration": 0,
    "start_time": "2022-08-02T11:05:41.382Z"
   },
   {
    "duration": 0,
    "start_time": "2022-08-02T11:05:41.383Z"
   },
   {
    "duration": 0,
    "start_time": "2022-08-02T11:05:41.385Z"
   },
   {
    "duration": 1,
    "start_time": "2022-08-02T11:05:41.411Z"
   },
   {
    "duration": 0,
    "start_time": "2022-08-02T11:05:41.413Z"
   },
   {
    "duration": 0,
    "start_time": "2022-08-02T11:05:41.413Z"
   },
   {
    "duration": 0,
    "start_time": "2022-08-02T11:05:41.415Z"
   },
   {
    "duration": 0,
    "start_time": "2022-08-02T11:05:41.416Z"
   },
   {
    "duration": 0,
    "start_time": "2022-08-02T11:05:41.418Z"
   },
   {
    "duration": 0,
    "start_time": "2022-08-02T11:05:41.419Z"
   },
   {
    "duration": 0,
    "start_time": "2022-08-02T11:05:41.420Z"
   },
   {
    "duration": 0,
    "start_time": "2022-08-02T11:05:41.421Z"
   },
   {
    "duration": 0,
    "start_time": "2022-08-02T11:05:41.423Z"
   },
   {
    "duration": 0,
    "start_time": "2022-08-02T11:05:41.424Z"
   },
   {
    "duration": 0,
    "start_time": "2022-08-02T11:05:41.425Z"
   },
   {
    "duration": 0,
    "start_time": "2022-08-02T11:05:41.427Z"
   },
   {
    "duration": 0,
    "start_time": "2022-08-02T11:05:41.428Z"
   },
   {
    "duration": 0,
    "start_time": "2022-08-02T11:05:41.429Z"
   },
   {
    "duration": 0,
    "start_time": "2022-08-02T11:05:41.430Z"
   },
   {
    "duration": 0,
    "start_time": "2022-08-02T11:05:41.431Z"
   },
   {
    "duration": 0,
    "start_time": "2022-08-02T11:05:41.432Z"
   },
   {
    "duration": 0,
    "start_time": "2022-08-02T11:05:41.433Z"
   },
   {
    "duration": 0,
    "start_time": "2022-08-02T11:05:41.434Z"
   },
   {
    "duration": 0,
    "start_time": "2022-08-02T11:05:41.435Z"
   },
   {
    "duration": 0,
    "start_time": "2022-08-02T11:05:41.436Z"
   },
   {
    "duration": 0,
    "start_time": "2022-08-02T11:05:41.438Z"
   },
   {
    "duration": 0,
    "start_time": "2022-08-02T11:05:41.439Z"
   },
   {
    "duration": 0,
    "start_time": "2022-08-02T11:05:41.440Z"
   },
   {
    "duration": 0,
    "start_time": "2022-08-02T11:05:41.441Z"
   },
   {
    "duration": 0,
    "start_time": "2022-08-02T11:05:41.442Z"
   },
   {
    "duration": 0,
    "start_time": "2022-08-02T11:05:41.443Z"
   },
   {
    "duration": 0,
    "start_time": "2022-08-02T11:05:41.445Z"
   },
   {
    "duration": 0,
    "start_time": "2022-08-02T11:05:41.446Z"
   },
   {
    "duration": 0,
    "start_time": "2022-08-02T11:05:41.447Z"
   },
   {
    "duration": 0,
    "start_time": "2022-08-02T11:05:41.448Z"
   },
   {
    "duration": 2671,
    "start_time": "2022-08-02T11:32:31.041Z"
   },
   {
    "duration": 20,
    "start_time": "2022-08-02T11:32:33.716Z"
   },
   {
    "duration": 0,
    "start_time": "2022-08-02T11:32:33.739Z"
   },
   {
    "duration": 0,
    "start_time": "2022-08-02T11:32:33.740Z"
   },
   {
    "duration": 0,
    "start_time": "2022-08-02T11:32:33.741Z"
   },
   {
    "duration": 0,
    "start_time": "2022-08-02T11:32:33.742Z"
   },
   {
    "duration": 0,
    "start_time": "2022-08-02T11:32:33.744Z"
   },
   {
    "duration": 0,
    "start_time": "2022-08-02T11:32:33.745Z"
   },
   {
    "duration": 0,
    "start_time": "2022-08-02T11:32:33.745Z"
   },
   {
    "duration": 0,
    "start_time": "2022-08-02T11:32:33.746Z"
   },
   {
    "duration": 0,
    "start_time": "2022-08-02T11:32:33.747Z"
   },
   {
    "duration": 0,
    "start_time": "2022-08-02T11:32:33.748Z"
   },
   {
    "duration": 0,
    "start_time": "2022-08-02T11:32:33.750Z"
   },
   {
    "duration": 0,
    "start_time": "2022-08-02T11:32:33.751Z"
   },
   {
    "duration": 0,
    "start_time": "2022-08-02T11:32:33.752Z"
   },
   {
    "duration": 0,
    "start_time": "2022-08-02T11:32:33.753Z"
   },
   {
    "duration": 0,
    "start_time": "2022-08-02T11:32:33.754Z"
   },
   {
    "duration": 0,
    "start_time": "2022-08-02T11:32:33.755Z"
   },
   {
    "duration": 0,
    "start_time": "2022-08-02T11:32:33.756Z"
   },
   {
    "duration": 0,
    "start_time": "2022-08-02T11:32:33.758Z"
   },
   {
    "duration": 0,
    "start_time": "2022-08-02T11:32:33.759Z"
   },
   {
    "duration": 0,
    "start_time": "2022-08-02T11:32:33.760Z"
   },
   {
    "duration": 0,
    "start_time": "2022-08-02T11:32:33.762Z"
   },
   {
    "duration": 0,
    "start_time": "2022-08-02T11:32:33.763Z"
   },
   {
    "duration": 0,
    "start_time": "2022-08-02T11:32:33.764Z"
   },
   {
    "duration": 0,
    "start_time": "2022-08-02T11:32:33.811Z"
   },
   {
    "duration": 0,
    "start_time": "2022-08-02T11:32:33.812Z"
   },
   {
    "duration": 0,
    "start_time": "2022-08-02T11:32:33.813Z"
   },
   {
    "duration": 0,
    "start_time": "2022-08-02T11:32:33.815Z"
   },
   {
    "duration": 0,
    "start_time": "2022-08-02T11:32:33.816Z"
   },
   {
    "duration": 1,
    "start_time": "2022-08-02T11:32:33.816Z"
   },
   {
    "duration": 0,
    "start_time": "2022-08-02T11:32:33.818Z"
   },
   {
    "duration": 0,
    "start_time": "2022-08-02T11:32:33.819Z"
   },
   {
    "duration": 0,
    "start_time": "2022-08-02T11:32:33.821Z"
   },
   {
    "duration": 0,
    "start_time": "2022-08-02T11:32:33.822Z"
   },
   {
    "duration": 0,
    "start_time": "2022-08-02T11:32:33.823Z"
   },
   {
    "duration": 0,
    "start_time": "2022-08-02T11:32:33.824Z"
   },
   {
    "duration": 0,
    "start_time": "2022-08-02T11:32:33.825Z"
   },
   {
    "duration": 0,
    "start_time": "2022-08-02T11:32:33.827Z"
   },
   {
    "duration": 0,
    "start_time": "2022-08-02T11:32:33.828Z"
   },
   {
    "duration": 0,
    "start_time": "2022-08-02T11:32:33.829Z"
   },
   {
    "duration": 0,
    "start_time": "2022-08-02T11:32:33.830Z"
   },
   {
    "duration": 0,
    "start_time": "2022-08-02T11:32:33.830Z"
   },
   {
    "duration": 0,
    "start_time": "2022-08-02T11:32:33.831Z"
   },
   {
    "duration": 0,
    "start_time": "2022-08-02T11:32:33.832Z"
   },
   {
    "duration": 0,
    "start_time": "2022-08-02T11:32:33.833Z"
   },
   {
    "duration": 2699,
    "start_time": "2022-08-02T11:33:05.187Z"
   },
   {
    "duration": 1439,
    "start_time": "2022-08-02T11:33:07.889Z"
   },
   {
    "duration": 1038,
    "start_time": "2022-08-02T11:33:09.331Z"
   },
   {
    "duration": 156,
    "start_time": "2022-08-02T11:33:10.372Z"
   },
   {
    "duration": 21,
    "start_time": "2022-08-02T11:33:10.530Z"
   },
   {
    "duration": 6,
    "start_time": "2022-08-02T11:33:10.554Z"
   },
   {
    "duration": 14,
    "start_time": "2022-08-02T11:33:10.562Z"
   },
   {
    "duration": 198,
    "start_time": "2022-08-02T11:33:10.578Z"
   },
   {
    "duration": 10,
    "start_time": "2022-08-02T11:33:10.778Z"
   },
   {
    "duration": 35,
    "start_time": "2022-08-02T11:33:10.790Z"
   },
   {
    "duration": 6,
    "start_time": "2022-08-02T11:33:10.827Z"
   },
   {
    "duration": 9,
    "start_time": "2022-08-02T11:33:10.835Z"
   },
   {
    "duration": 6,
    "start_time": "2022-08-02T11:33:10.847Z"
   },
   {
    "duration": 11,
    "start_time": "2022-08-02T11:33:10.855Z"
   },
   {
    "duration": 13,
    "start_time": "2022-08-02T11:33:10.868Z"
   },
   {
    "duration": 903,
    "start_time": "2022-08-02T11:33:10.911Z"
   },
   {
    "duration": 7,
    "start_time": "2022-08-02T11:33:11.817Z"
   },
   {
    "duration": 25,
    "start_time": "2022-08-02T11:33:11.826Z"
   },
   {
    "duration": 16,
    "start_time": "2022-08-02T11:33:11.856Z"
   },
   {
    "duration": 21,
    "start_time": "2022-08-02T11:33:11.874Z"
   },
   {
    "duration": 27,
    "start_time": "2022-08-02T11:33:11.897Z"
   },
   {
    "duration": 42,
    "start_time": "2022-08-02T11:33:11.926Z"
   },
   {
    "duration": 44,
    "start_time": "2022-08-02T11:33:11.970Z"
   },
   {
    "duration": 52,
    "start_time": "2022-08-02T11:33:12.017Z"
   },
   {
    "duration": 3,
    "start_time": "2022-08-02T11:33:12.071Z"
   },
   {
    "duration": 8440,
    "start_time": "2022-08-02T11:33:12.076Z"
   },
   {
    "duration": 4,
    "start_time": "2022-08-02T11:33:20.517Z"
   },
   {
    "duration": 5,
    "start_time": "2022-08-02T11:33:20.525Z"
   },
   {
    "duration": 7,
    "start_time": "2022-08-02T11:33:20.532Z"
   },
   {
    "duration": 12,
    "start_time": "2022-08-02T11:33:20.541Z"
   },
   {
    "duration": 6,
    "start_time": "2022-08-02T11:33:20.555Z"
   },
   {
    "duration": 21463,
    "start_time": "2022-08-02T11:33:20.562Z"
   },
   {
    "duration": 6,
    "start_time": "2022-08-02T11:33:42.027Z"
   },
   {
    "duration": 18,
    "start_time": "2022-08-02T11:33:42.035Z"
   },
   {
    "duration": 39,
    "start_time": "2022-08-02T11:33:42.055Z"
   },
   {
    "duration": 17425,
    "start_time": "2022-08-02T11:33:42.096Z"
   },
   {
    "duration": 90,
    "start_time": "2022-08-02T11:33:59.523Z"
   },
   {
    "duration": 96,
    "start_time": "2022-08-02T11:33:59.616Z"
   },
   {
    "duration": 18,
    "start_time": "2022-08-02T11:33:59.714Z"
   },
   {
    "duration": 206,
    "start_time": "2022-08-02T11:33:59.735Z"
   },
   {
    "duration": 73,
    "start_time": "2022-08-02T11:33:59.943Z"
   },
   {
    "duration": 7,
    "start_time": "2022-08-02T11:34:00.109Z"
   },
   {
    "duration": 15,
    "start_time": "2022-08-02T11:34:00.118Z"
   },
   {
    "duration": 306,
    "start_time": "2022-08-02T11:34:00.136Z"
   },
   {
    "duration": 9,
    "start_time": "2022-08-02T11:34:00.445Z"
   },
   {
    "duration": 243,
    "start_time": "2022-08-02T11:34:00.456Z"
   },
   {
    "duration": 4,
    "start_time": "2022-08-02T11:48:17.505Z"
   },
   {
    "duration": 6,
    "start_time": "2022-08-02T11:48:58.915Z"
   },
   {
    "duration": 4,
    "start_time": "2022-08-02T11:50:30.714Z"
   },
   {
    "duration": 142,
    "start_time": "2022-08-02T11:51:15.306Z"
   },
   {
    "duration": 12,
    "start_time": "2022-08-02T11:51:27.741Z"
   },
   {
    "duration": 4,
    "start_time": "2022-08-02T11:51:48.182Z"
   },
   {
    "duration": 4,
    "start_time": "2022-08-02T11:52:40.006Z"
   },
   {
    "duration": 4,
    "start_time": "2022-08-02T11:55:05.059Z"
   },
   {
    "duration": 5,
    "start_time": "2022-08-02T11:55:12.086Z"
   },
   {
    "duration": 11,
    "start_time": "2022-08-02T11:56:21.161Z"
   },
   {
    "duration": 4,
    "start_time": "2022-08-02T11:56:33.399Z"
   },
   {
    "duration": 2649,
    "start_time": "2022-08-02T11:59:34.167Z"
   },
   {
    "duration": 4,
    "start_time": "2022-08-02T11:59:36.820Z"
   },
   {
    "duration": 7,
    "start_time": "2022-08-02T11:59:36.827Z"
   },
   {
    "duration": 54,
    "start_time": "2022-08-02T11:59:36.837Z"
   },
   {
    "duration": 21,
    "start_time": "2022-08-02T11:59:36.893Z"
   },
   {
    "duration": 8,
    "start_time": "2022-08-02T11:59:36.916Z"
   },
   {
    "duration": 21,
    "start_time": "2022-08-02T11:59:36.926Z"
   },
   {
    "duration": 209,
    "start_time": "2022-08-02T11:59:36.949Z"
   },
   {
    "duration": 11,
    "start_time": "2022-08-02T11:59:37.160Z"
   },
   {
    "duration": 37,
    "start_time": "2022-08-02T11:59:37.174Z"
   },
   {
    "duration": 11,
    "start_time": "2022-08-02T11:59:37.213Z"
   },
   {
    "duration": 12,
    "start_time": "2022-08-02T11:59:37.226Z"
   },
   {
    "duration": 11,
    "start_time": "2022-08-02T11:59:37.240Z"
   },
   {
    "duration": 12,
    "start_time": "2022-08-02T11:59:37.253Z"
   },
   {
    "duration": 11,
    "start_time": "2022-08-02T11:59:37.268Z"
   },
   {
    "duration": 989,
    "start_time": "2022-08-02T11:59:37.310Z"
   },
   {
    "duration": 10,
    "start_time": "2022-08-02T11:59:38.302Z"
   },
   {
    "duration": 14,
    "start_time": "2022-08-02T11:59:38.314Z"
   },
   {
    "duration": 7,
    "start_time": "2022-08-02T11:59:38.329Z"
   },
   {
    "duration": 8,
    "start_time": "2022-08-02T11:59:38.337Z"
   },
   {
    "duration": 11,
    "start_time": "2022-08-02T11:59:38.347Z"
   },
   {
    "duration": 63,
    "start_time": "2022-08-02T11:59:38.360Z"
   },
   {
    "duration": 31,
    "start_time": "2022-08-02T11:59:38.425Z"
   },
   {
    "duration": 64,
    "start_time": "2022-08-02T11:59:38.458Z"
   },
   {
    "duration": 2,
    "start_time": "2022-08-02T11:59:38.524Z"
   },
   {
    "duration": 6,
    "start_time": "2022-08-02T11:59:38.528Z"
   },
   {
    "duration": 4,
    "start_time": "2022-08-02T11:59:38.536Z"
   },
   {
    "duration": 7,
    "start_time": "2022-08-02T11:59:38.544Z"
   },
   {
    "duration": 12,
    "start_time": "2022-08-02T11:59:38.553Z"
   },
   {
    "duration": 1777,
    "start_time": "2022-08-02T11:59:38.568Z"
   },
   {
    "duration": 6,
    "start_time": "2022-08-02T11:59:40.347Z"
   },
   {
    "duration": 8,
    "start_time": "2022-08-02T11:59:40.355Z"
   },
   {
    "duration": 9,
    "start_time": "2022-08-02T11:59:40.365Z"
   },
   {
    "duration": 19,
    "start_time": "2022-08-02T11:59:40.375Z"
   },
   {
    "duration": 7,
    "start_time": "2022-08-02T11:59:40.409Z"
   },
   {
    "duration": 23456,
    "start_time": "2022-08-02T11:59:40.418Z"
   },
   {
    "duration": 4,
    "start_time": "2022-08-02T12:00:03.876Z"
   },
   {
    "duration": 15,
    "start_time": "2022-08-02T12:00:03.882Z"
   },
   {
    "duration": 41,
    "start_time": "2022-08-02T12:00:03.899Z"
   },
   {
    "duration": 20469,
    "start_time": "2022-08-02T12:00:03.942Z"
   },
   {
    "duration": 10,
    "start_time": "2022-08-02T12:00:24.414Z"
   },
   {
    "duration": 5,
    "start_time": "2022-08-02T12:00:24.511Z"
   },
   {
    "duration": 14,
    "start_time": "2022-08-02T12:00:24.517Z"
   },
   {
    "duration": 214,
    "start_time": "2022-08-02T12:00:24.534Z"
   },
   {
    "duration": 61,
    "start_time": "2022-08-02T12:00:24.751Z"
   },
   {
    "duration": 101,
    "start_time": "2022-08-02T12:00:24.815Z"
   },
   {
    "duration": 10,
    "start_time": "2022-08-02T12:00:24.918Z"
   },
   {
    "duration": 227,
    "start_time": "2022-08-02T12:00:24.930Z"
   },
   {
    "duration": 8,
    "start_time": "2022-08-02T12:00:25.159Z"
   },
   {
    "duration": 261,
    "start_time": "2022-08-02T12:00:25.169Z"
   },
   {
    "duration": 5,
    "start_time": "2022-08-02T12:14:39.207Z"
   },
   {
    "duration": 2642,
    "start_time": "2022-08-02T12:20:36.768Z"
   },
   {
    "duration": 4,
    "start_time": "2022-08-02T12:20:39.414Z"
   },
   {
    "duration": 10,
    "start_time": "2022-08-02T12:20:39.420Z"
   },
   {
    "duration": 57,
    "start_time": "2022-08-02T12:20:39.433Z"
   },
   {
    "duration": 15,
    "start_time": "2022-08-02T12:20:39.493Z"
   },
   {
    "duration": 14,
    "start_time": "2022-08-02T12:20:39.510Z"
   },
   {
    "duration": 19,
    "start_time": "2022-08-02T12:20:39.527Z"
   },
   {
    "duration": 217,
    "start_time": "2022-08-02T12:20:39.548Z"
   },
   {
    "duration": 10,
    "start_time": "2022-08-02T12:20:39.767Z"
   },
   {
    "duration": 41,
    "start_time": "2022-08-02T12:20:39.780Z"
   },
   {
    "duration": 11,
    "start_time": "2022-08-02T12:20:39.824Z"
   },
   {
    "duration": 8,
    "start_time": "2022-08-02T12:20:39.838Z"
   },
   {
    "duration": 10,
    "start_time": "2022-08-02T12:20:39.848Z"
   },
   {
    "duration": 15,
    "start_time": "2022-08-02T12:20:39.859Z"
   },
   {
    "duration": 36,
    "start_time": "2022-08-02T12:20:39.876Z"
   },
   {
    "duration": 984,
    "start_time": "2022-08-02T12:20:39.914Z"
   },
   {
    "duration": 13,
    "start_time": "2022-08-02T12:20:40.900Z"
   },
   {
    "duration": 11,
    "start_time": "2022-08-02T12:20:40.914Z"
   },
   {
    "duration": 7,
    "start_time": "2022-08-02T12:20:40.927Z"
   },
   {
    "duration": 11,
    "start_time": "2022-08-02T12:20:40.935Z"
   },
   {
    "duration": 19,
    "start_time": "2022-08-02T12:20:40.947Z"
   },
   {
    "duration": 61,
    "start_time": "2022-08-02T12:20:40.968Z"
   },
   {
    "duration": 29,
    "start_time": "2022-08-02T12:20:41.030Z"
   },
   {
    "duration": 60,
    "start_time": "2022-08-02T12:20:41.062Z"
   },
   {
    "duration": 3,
    "start_time": "2022-08-02T12:20:41.124Z"
   },
   {
    "duration": 24,
    "start_time": "2022-08-02T12:20:41.129Z"
   },
   {
    "duration": 11,
    "start_time": "2022-08-02T12:20:41.155Z"
   },
   {
    "duration": 8,
    "start_time": "2022-08-02T12:20:41.170Z"
   },
   {
    "duration": 16,
    "start_time": "2022-08-02T12:20:41.180Z"
   },
   {
    "duration": 1735,
    "start_time": "2022-08-02T12:20:41.198Z"
   },
   {
    "duration": 4,
    "start_time": "2022-08-02T12:20:42.935Z"
   },
   {
    "duration": 10,
    "start_time": "2022-08-02T12:20:42.941Z"
   },
   {
    "duration": 6,
    "start_time": "2022-08-02T12:20:42.954Z"
   },
   {
    "duration": 14,
    "start_time": "2022-08-02T12:20:42.962Z"
   },
   {
    "duration": 33,
    "start_time": "2022-08-02T12:20:42.978Z"
   },
   {
    "duration": 5032,
    "start_time": "2022-08-02T12:20:43.013Z"
   },
   {
    "duration": 5,
    "start_time": "2022-08-02T12:20:48.047Z"
   },
   {
    "duration": 10,
    "start_time": "2022-08-02T12:20:48.054Z"
   },
   {
    "duration": 50,
    "start_time": "2022-08-02T12:20:48.066Z"
   },
   {
    "duration": 3908,
    "start_time": "2022-08-02T12:20:48.118Z"
   },
   {
    "duration": 6,
    "start_time": "2022-08-02T12:20:52.028Z"
   },
   {
    "duration": 16,
    "start_time": "2022-08-02T12:20:52.036Z"
   },
   {
    "duration": 22,
    "start_time": "2022-08-02T12:20:52.055Z"
   },
   {
    "duration": 148,
    "start_time": "2022-08-02T12:20:52.112Z"
   },
   {
    "duration": 47,
    "start_time": "2022-08-02T12:20:52.265Z"
   },
   {
    "duration": 103,
    "start_time": "2022-08-02T12:20:52.315Z"
   },
   {
    "duration": 46,
    "start_time": "2022-08-02T12:20:52.421Z"
   },
   {
    "duration": 213,
    "start_time": "2022-08-02T12:20:52.470Z"
   },
   {
    "duration": 10,
    "start_time": "2022-08-02T12:20:52.685Z"
   },
   {
    "duration": 417,
    "start_time": "2022-08-02T12:20:52.697Z"
   },
   {
    "duration": 7611,
    "start_time": "2022-08-04T10:31:00.014Z"
   },
   {
    "duration": 51,
    "start_time": "2022-08-04T10:31:07.628Z"
   },
   {
    "duration": 0,
    "start_time": "2022-08-04T10:31:07.681Z"
   },
   {
    "duration": 0,
    "start_time": "2022-08-04T10:31:07.683Z"
   },
   {
    "duration": 0,
    "start_time": "2022-08-04T10:31:07.684Z"
   },
   {
    "duration": 0,
    "start_time": "2022-08-04T10:31:07.685Z"
   },
   {
    "duration": 0,
    "start_time": "2022-08-04T10:31:07.686Z"
   },
   {
    "duration": 0,
    "start_time": "2022-08-04T10:31:07.687Z"
   },
   {
    "duration": 0,
    "start_time": "2022-08-04T10:31:07.687Z"
   },
   {
    "duration": 0,
    "start_time": "2022-08-04T10:31:07.703Z"
   },
   {
    "duration": 0,
    "start_time": "2022-08-04T10:31:07.704Z"
   },
   {
    "duration": 0,
    "start_time": "2022-08-04T10:31:07.704Z"
   },
   {
    "duration": 0,
    "start_time": "2022-08-04T10:31:07.705Z"
   },
   {
    "duration": 0,
    "start_time": "2022-08-04T10:31:07.705Z"
   },
   {
    "duration": 0,
    "start_time": "2022-08-04T10:31:07.706Z"
   },
   {
    "duration": 0,
    "start_time": "2022-08-04T10:31:07.707Z"
   },
   {
    "duration": 0,
    "start_time": "2022-08-04T10:31:07.707Z"
   },
   {
    "duration": 0,
    "start_time": "2022-08-04T10:31:07.708Z"
   },
   {
    "duration": 0,
    "start_time": "2022-08-04T10:31:07.709Z"
   },
   {
    "duration": 0,
    "start_time": "2022-08-04T10:31:07.713Z"
   },
   {
    "duration": 0,
    "start_time": "2022-08-04T10:31:07.714Z"
   },
   {
    "duration": 0,
    "start_time": "2022-08-04T10:31:07.714Z"
   },
   {
    "duration": 0,
    "start_time": "2022-08-04T10:31:07.715Z"
   },
   {
    "duration": 0,
    "start_time": "2022-08-04T10:31:07.716Z"
   },
   {
    "duration": 0,
    "start_time": "2022-08-04T10:31:07.717Z"
   },
   {
    "duration": 0,
    "start_time": "2022-08-04T10:31:07.717Z"
   },
   {
    "duration": 0,
    "start_time": "2022-08-04T10:31:07.718Z"
   },
   {
    "duration": 1,
    "start_time": "2022-08-04T10:31:07.718Z"
   },
   {
    "duration": 0,
    "start_time": "2022-08-04T10:31:07.719Z"
   },
   {
    "duration": 0,
    "start_time": "2022-08-04T10:31:07.720Z"
   },
   {
    "duration": 0,
    "start_time": "2022-08-04T10:31:07.721Z"
   },
   {
    "duration": 0,
    "start_time": "2022-08-04T10:31:07.721Z"
   },
   {
    "duration": 0,
    "start_time": "2022-08-04T10:31:07.724Z"
   },
   {
    "duration": 0,
    "start_time": "2022-08-04T10:31:07.725Z"
   },
   {
    "duration": 0,
    "start_time": "2022-08-04T10:31:07.725Z"
   },
   {
    "duration": 0,
    "start_time": "2022-08-04T10:31:07.726Z"
   },
   {
    "duration": 0,
    "start_time": "2022-08-04T10:31:07.726Z"
   },
   {
    "duration": 0,
    "start_time": "2022-08-04T10:31:07.727Z"
   },
   {
    "duration": 0,
    "start_time": "2022-08-04T10:31:07.727Z"
   },
   {
    "duration": 0,
    "start_time": "2022-08-04T10:31:07.730Z"
   },
   {
    "duration": 0,
    "start_time": "2022-08-04T10:31:07.731Z"
   },
   {
    "duration": 0,
    "start_time": "2022-08-04T10:31:07.732Z"
   },
   {
    "duration": 0,
    "start_time": "2022-08-04T10:31:07.732Z"
   },
   {
    "duration": 0,
    "start_time": "2022-08-04T10:31:07.733Z"
   },
   {
    "duration": 1,
    "start_time": "2022-08-04T10:31:07.733Z"
   },
   {
    "duration": 0,
    "start_time": "2022-08-04T10:31:07.734Z"
   },
   {
    "duration": 0,
    "start_time": "2022-08-04T10:31:07.735Z"
   },
   {
    "duration": 0,
    "start_time": "2022-08-04T10:31:07.735Z"
   },
   {
    "duration": 0,
    "start_time": "2022-08-04T10:31:07.736Z"
   },
   {
    "duration": 0,
    "start_time": "2022-08-04T10:31:07.736Z"
   },
   {
    "duration": 2472,
    "start_time": "2022-08-04T10:31:50.179Z"
   },
   {
    "duration": 743,
    "start_time": "2022-08-04T10:31:52.653Z"
   },
   {
    "duration": 675,
    "start_time": "2022-08-04T10:31:53.399Z"
   },
   {
    "duration": 106,
    "start_time": "2022-08-04T10:31:54.076Z"
   },
   {
    "duration": 29,
    "start_time": "2022-08-04T10:31:54.184Z"
   },
   {
    "duration": 15,
    "start_time": "2022-08-04T10:31:54.217Z"
   },
   {
    "duration": 12,
    "start_time": "2022-08-04T10:31:54.234Z"
   },
   {
    "duration": 183,
    "start_time": "2022-08-04T10:31:54.248Z"
   },
   {
    "duration": 9,
    "start_time": "2022-08-04T10:31:54.432Z"
   },
   {
    "duration": 21,
    "start_time": "2022-08-04T10:31:54.444Z"
   },
   {
    "duration": 25,
    "start_time": "2022-08-04T10:31:54.466Z"
   },
   {
    "duration": 32,
    "start_time": "2022-08-04T10:31:54.493Z"
   },
   {
    "duration": 8,
    "start_time": "2022-08-04T10:31:54.527Z"
   },
   {
    "duration": 10,
    "start_time": "2022-08-04T10:31:54.537Z"
   },
   {
    "duration": 10,
    "start_time": "2022-08-04T10:31:54.549Z"
   },
   {
    "duration": 950,
    "start_time": "2022-08-04T10:31:54.560Z"
   },
   {
    "duration": 7,
    "start_time": "2022-08-04T10:31:55.512Z"
   },
   {
    "duration": 26,
    "start_time": "2022-08-04T10:31:55.521Z"
   },
   {
    "duration": 38,
    "start_time": "2022-08-04T10:31:55.549Z"
   },
   {
    "duration": 35,
    "start_time": "2022-08-04T10:31:55.588Z"
   },
   {
    "duration": 20,
    "start_time": "2022-08-04T10:31:55.625Z"
   },
   {
    "duration": 25,
    "start_time": "2022-08-04T10:31:55.646Z"
   },
   {
    "duration": 40,
    "start_time": "2022-08-04T10:31:55.673Z"
   },
   {
    "duration": 50,
    "start_time": "2022-08-04T10:31:55.714Z"
   },
   {
    "duration": 3,
    "start_time": "2022-08-04T10:31:55.766Z"
   },
   {
    "duration": 10,
    "start_time": "2022-08-04T10:31:55.771Z"
   },
   {
    "duration": 40,
    "start_time": "2022-08-04T10:31:55.782Z"
   },
   {
    "duration": 26,
    "start_time": "2022-08-04T10:31:55.825Z"
   },
   {
    "duration": 12,
    "start_time": "2022-08-04T10:31:55.853Z"
   },
   {
    "duration": 1657,
    "start_time": "2022-08-04T10:31:55.867Z"
   },
   {
    "duration": 3,
    "start_time": "2022-08-04T10:31:57.526Z"
   },
   {
    "duration": 30,
    "start_time": "2022-08-04T10:31:57.531Z"
   },
   {
    "duration": 56,
    "start_time": "2022-08-04T10:31:57.563Z"
   },
   {
    "duration": 32,
    "start_time": "2022-08-04T10:31:57.621Z"
   },
   {
    "duration": 21,
    "start_time": "2022-08-04T10:31:57.654Z"
   },
   {
    "duration": 4606,
    "start_time": "2022-08-04T10:31:57.676Z"
   },
   {
    "duration": 21,
    "start_time": "2022-08-04T10:32:02.284Z"
   },
   {
    "duration": 19,
    "start_time": "2022-08-04T10:32:02.311Z"
   },
   {
    "duration": 40,
    "start_time": "2022-08-04T10:32:02.332Z"
   },
   {
    "duration": 4919,
    "start_time": "2022-08-04T10:32:02.374Z"
   },
   {
    "duration": 7,
    "start_time": "2022-08-04T10:32:07.294Z"
   },
   {
    "duration": 23,
    "start_time": "2022-08-04T10:32:07.302Z"
   },
   {
    "duration": 14,
    "start_time": "2022-08-04T10:32:07.327Z"
   },
   {
    "duration": 178,
    "start_time": "2022-08-04T10:32:07.343Z"
   },
   {
    "duration": 163,
    "start_time": "2022-08-04T10:32:07.524Z"
   },
   {
    "duration": 35,
    "start_time": "2022-08-04T10:32:07.690Z"
   },
   {
    "duration": 9,
    "start_time": "2022-08-04T10:32:07.727Z"
   },
   {
    "duration": 254,
    "start_time": "2022-08-04T10:32:07.738Z"
   },
   {
    "duration": 14,
    "start_time": "2022-08-04T10:32:07.995Z"
   },
   {
    "duration": 215,
    "start_time": "2022-08-04T10:32:08.018Z"
   },
   {
    "duration": 2372,
    "start_time": "2022-08-04T10:36:43.864Z"
   },
   {
    "duration": 4,
    "start_time": "2022-08-04T10:36:46.239Z"
   },
   {
    "duration": 11,
    "start_time": "2022-08-04T10:36:46.245Z"
   },
   {
    "duration": 74,
    "start_time": "2022-08-04T10:36:46.259Z"
   },
   {
    "duration": 14,
    "start_time": "2022-08-04T10:36:46.335Z"
   },
   {
    "duration": 15,
    "start_time": "2022-08-04T10:36:46.351Z"
   },
   {
    "duration": 17,
    "start_time": "2022-08-04T10:36:46.368Z"
   },
   {
    "duration": 208,
    "start_time": "2022-08-04T10:36:46.395Z"
   },
   {
    "duration": 12,
    "start_time": "2022-08-04T10:36:46.607Z"
   },
   {
    "duration": 36,
    "start_time": "2022-08-04T10:36:46.622Z"
   },
   {
    "duration": 9,
    "start_time": "2022-08-04T10:36:46.659Z"
   },
   {
    "duration": 15,
    "start_time": "2022-08-04T10:36:46.670Z"
   },
   {
    "duration": 52,
    "start_time": "2022-08-04T10:36:46.691Z"
   },
   {
    "duration": 21,
    "start_time": "2022-08-04T10:36:46.745Z"
   },
   {
    "duration": 10,
    "start_time": "2022-08-04T10:36:46.768Z"
   },
   {
    "duration": 847,
    "start_time": "2022-08-04T10:36:46.780Z"
   },
   {
    "duration": 5,
    "start_time": "2022-08-04T10:36:47.630Z"
   },
   {
    "duration": 16,
    "start_time": "2022-08-04T10:36:47.637Z"
   },
   {
    "duration": 5,
    "start_time": "2022-08-04T10:36:47.654Z"
   },
   {
    "duration": 11,
    "start_time": "2022-08-04T10:36:47.661Z"
   },
   {
    "duration": 35,
    "start_time": "2022-08-04T10:36:47.675Z"
   },
   {
    "duration": 41,
    "start_time": "2022-08-04T10:36:47.711Z"
   },
   {
    "duration": 28,
    "start_time": "2022-08-04T10:36:47.753Z"
   },
   {
    "duration": 53,
    "start_time": "2022-08-04T10:36:47.783Z"
   },
   {
    "duration": 2,
    "start_time": "2022-08-04T10:36:47.838Z"
   },
   {
    "duration": 10,
    "start_time": "2022-08-04T10:36:47.841Z"
   },
   {
    "duration": 6,
    "start_time": "2022-08-04T10:36:47.852Z"
   },
   {
    "duration": 7,
    "start_time": "2022-08-04T10:36:47.862Z"
   },
   {
    "duration": 6,
    "start_time": "2022-08-04T10:36:47.871Z"
   },
   {
    "duration": 1545,
    "start_time": "2022-08-04T10:36:47.879Z"
   },
   {
    "duration": 4,
    "start_time": "2022-08-04T10:36:49.425Z"
   },
   {
    "duration": 13,
    "start_time": "2022-08-04T10:36:49.430Z"
   },
   {
    "duration": 24,
    "start_time": "2022-08-04T10:36:49.444Z"
   },
   {
    "duration": 30,
    "start_time": "2022-08-04T10:36:49.470Z"
   },
   {
    "duration": 15,
    "start_time": "2022-08-04T10:36:49.509Z"
   },
   {
    "duration": 4488,
    "start_time": "2022-08-04T10:36:49.525Z"
   },
   {
    "duration": 8,
    "start_time": "2022-08-04T10:36:54.018Z"
   },
   {
    "duration": 6,
    "start_time": "2022-08-04T10:36:54.027Z"
   },
   {
    "duration": 45,
    "start_time": "2022-08-04T10:36:54.034Z"
   },
   {
    "duration": 5307,
    "start_time": "2022-08-04T10:36:54.081Z"
   },
   {
    "duration": 12,
    "start_time": "2022-08-04T10:36:59.395Z"
   },
   {
    "duration": 11,
    "start_time": "2022-08-04T10:36:59.412Z"
   },
   {
    "duration": 11,
    "start_time": "2022-08-04T10:36:59.425Z"
   },
   {
    "duration": 154,
    "start_time": "2022-08-04T10:36:59.493Z"
   },
   {
    "duration": 49,
    "start_time": "2022-08-04T10:36:59.650Z"
   },
   {
    "duration": 122,
    "start_time": "2022-08-04T10:36:59.701Z"
   },
   {
    "duration": 9,
    "start_time": "2022-08-04T10:36:59.825Z"
   },
   {
    "duration": 195,
    "start_time": "2022-08-04T10:36:59.836Z"
   },
   {
    "duration": 11,
    "start_time": "2022-08-04T10:37:00.035Z"
   },
   {
    "duration": 213,
    "start_time": "2022-08-04T10:37:00.049Z"
   },
   {
    "duration": 6654,
    "start_time": "2022-08-05T05:22:36.249Z"
   },
   {
    "duration": 42,
    "start_time": "2022-08-05T05:22:42.905Z"
   },
   {
    "duration": 0,
    "start_time": "2022-08-05T05:22:42.950Z"
   },
   {
    "duration": 0,
    "start_time": "2022-08-05T05:22:42.952Z"
   },
   {
    "duration": 0,
    "start_time": "2022-08-05T05:22:42.953Z"
   },
   {
    "duration": 0,
    "start_time": "2022-08-05T05:22:42.955Z"
   },
   {
    "duration": 0,
    "start_time": "2022-08-05T05:22:42.956Z"
   },
   {
    "duration": 0,
    "start_time": "2022-08-05T05:22:42.958Z"
   },
   {
    "duration": 0,
    "start_time": "2022-08-05T05:22:42.959Z"
   },
   {
    "duration": 0,
    "start_time": "2022-08-05T05:22:42.961Z"
   },
   {
    "duration": 0,
    "start_time": "2022-08-05T05:22:42.961Z"
   },
   {
    "duration": 0,
    "start_time": "2022-08-05T05:22:42.962Z"
   },
   {
    "duration": 0,
    "start_time": "2022-08-05T05:22:42.963Z"
   },
   {
    "duration": 0,
    "start_time": "2022-08-05T05:22:42.964Z"
   },
   {
    "duration": 0,
    "start_time": "2022-08-05T05:22:42.965Z"
   },
   {
    "duration": 0,
    "start_time": "2022-08-05T05:22:42.967Z"
   },
   {
    "duration": 0,
    "start_time": "2022-08-05T05:22:42.968Z"
   },
   {
    "duration": 0,
    "start_time": "2022-08-05T05:22:42.969Z"
   },
   {
    "duration": 0,
    "start_time": "2022-08-05T05:22:42.987Z"
   },
   {
    "duration": 0,
    "start_time": "2022-08-05T05:22:42.988Z"
   },
   {
    "duration": 0,
    "start_time": "2022-08-05T05:22:42.989Z"
   },
   {
    "duration": 0,
    "start_time": "2022-08-05T05:22:42.990Z"
   },
   {
    "duration": 0,
    "start_time": "2022-08-05T05:22:42.991Z"
   },
   {
    "duration": 0,
    "start_time": "2022-08-05T05:22:42.992Z"
   },
   {
    "duration": 0,
    "start_time": "2022-08-05T05:22:42.993Z"
   },
   {
    "duration": 0,
    "start_time": "2022-08-05T05:22:42.994Z"
   },
   {
    "duration": 0,
    "start_time": "2022-08-05T05:22:42.995Z"
   },
   {
    "duration": 0,
    "start_time": "2022-08-05T05:22:42.996Z"
   },
   {
    "duration": 0,
    "start_time": "2022-08-05T05:22:42.997Z"
   },
   {
    "duration": 0,
    "start_time": "2022-08-05T05:22:42.998Z"
   },
   {
    "duration": 0,
    "start_time": "2022-08-05T05:22:42.998Z"
   },
   {
    "duration": 0,
    "start_time": "2022-08-05T05:22:42.999Z"
   },
   {
    "duration": 0,
    "start_time": "2022-08-05T05:22:43.000Z"
   },
   {
    "duration": 0,
    "start_time": "2022-08-05T05:22:43.001Z"
   },
   {
    "duration": 0,
    "start_time": "2022-08-05T05:22:43.002Z"
   },
   {
    "duration": 0,
    "start_time": "2022-08-05T05:22:43.003Z"
   },
   {
    "duration": 0,
    "start_time": "2022-08-05T05:22:43.005Z"
   },
   {
    "duration": 0,
    "start_time": "2022-08-05T05:22:43.006Z"
   },
   {
    "duration": 0,
    "start_time": "2022-08-05T05:22:43.006Z"
   },
   {
    "duration": 0,
    "start_time": "2022-08-05T05:22:43.007Z"
   },
   {
    "duration": 0,
    "start_time": "2022-08-05T05:22:43.008Z"
   },
   {
    "duration": 0,
    "start_time": "2022-08-05T05:22:43.010Z"
   },
   {
    "duration": 0,
    "start_time": "2022-08-05T05:22:43.011Z"
   },
   {
    "duration": 0,
    "start_time": "2022-08-05T05:22:43.012Z"
   },
   {
    "duration": 0,
    "start_time": "2022-08-05T05:22:43.014Z"
   },
   {
    "duration": 0,
    "start_time": "2022-08-05T05:22:43.015Z"
   },
   {
    "duration": 0,
    "start_time": "2022-08-05T05:22:43.016Z"
   },
   {
    "duration": 1,
    "start_time": "2022-08-05T05:22:43.017Z"
   },
   {
    "duration": 0,
    "start_time": "2022-08-05T05:22:43.019Z"
   },
   {
    "duration": 0,
    "start_time": "2022-08-05T05:22:43.020Z"
   },
   {
    "duration": 2138,
    "start_time": "2022-08-05T05:22:54.110Z"
   },
   {
    "duration": 749,
    "start_time": "2022-08-05T05:22:56.250Z"
   },
   {
    "duration": 609,
    "start_time": "2022-08-05T05:22:57.002Z"
   },
   {
    "duration": 82,
    "start_time": "2022-08-05T05:22:57.613Z"
   },
   {
    "duration": 17,
    "start_time": "2022-08-05T05:22:57.697Z"
   },
   {
    "duration": 6,
    "start_time": "2022-08-05T05:22:57.715Z"
   },
   {
    "duration": 13,
    "start_time": "2022-08-05T05:22:57.722Z"
   },
   {
    "duration": 166,
    "start_time": "2022-08-05T05:22:57.736Z"
   },
   {
    "duration": 9,
    "start_time": "2022-08-05T05:22:57.904Z"
   },
   {
    "duration": 21,
    "start_time": "2022-08-05T05:22:57.914Z"
   },
   {
    "duration": 6,
    "start_time": "2022-08-05T05:22:57.936Z"
   },
   {
    "duration": 10,
    "start_time": "2022-08-05T05:22:57.943Z"
   },
   {
    "duration": 33,
    "start_time": "2022-08-05T05:22:57.954Z"
   },
   {
    "duration": 8,
    "start_time": "2022-08-05T05:22:57.989Z"
   },
   {
    "duration": 10,
    "start_time": "2022-08-05T05:22:57.999Z"
   },
   {
    "duration": 848,
    "start_time": "2022-08-05T05:22:58.010Z"
   },
   {
    "duration": 5,
    "start_time": "2022-08-05T05:22:58.860Z"
   },
   {
    "duration": 9,
    "start_time": "2022-08-05T05:22:58.866Z"
   },
   {
    "duration": 6,
    "start_time": "2022-08-05T05:22:58.877Z"
   },
   {
    "duration": 7,
    "start_time": "2022-08-05T05:22:58.884Z"
   },
   {
    "duration": 10,
    "start_time": "2022-08-05T05:22:58.893Z"
   },
   {
    "duration": 25,
    "start_time": "2022-08-05T05:22:58.904Z"
   },
   {
    "duration": 35,
    "start_time": "2022-08-05T05:22:58.930Z"
   },
   {
    "duration": 45,
    "start_time": "2022-08-05T05:22:58.967Z"
   },
   {
    "duration": 2,
    "start_time": "2022-08-05T05:22:59.013Z"
   },
   {
    "duration": 9,
    "start_time": "2022-08-05T05:22:59.017Z"
   },
   {
    "duration": 9,
    "start_time": "2022-08-05T05:22:59.027Z"
   },
   {
    "duration": 6,
    "start_time": "2022-08-05T05:22:59.038Z"
   },
   {
    "duration": 7,
    "start_time": "2022-08-05T05:22:59.045Z"
   },
   {
    "duration": 1418,
    "start_time": "2022-08-05T05:22:59.054Z"
   },
   {
    "duration": 4,
    "start_time": "2022-08-05T05:23:00.474Z"
   },
   {
    "duration": 5,
    "start_time": "2022-08-05T05:23:00.487Z"
   },
   {
    "duration": 19,
    "start_time": "2022-08-05T05:23:00.493Z"
   },
   {
    "duration": 17,
    "start_time": "2022-08-05T05:23:00.513Z"
   },
   {
    "duration": 12,
    "start_time": "2022-08-05T05:23:00.531Z"
   },
   {
    "duration": 4276,
    "start_time": "2022-08-05T05:23:00.545Z"
   },
   {
    "duration": 3,
    "start_time": "2022-08-05T05:23:04.823Z"
   },
   {
    "duration": 6,
    "start_time": "2022-08-05T05:23:04.828Z"
   },
   {
    "duration": 35,
    "start_time": "2022-08-05T05:23:04.836Z"
   },
   {
    "duration": 3031,
    "start_time": "2022-08-05T05:23:04.872Z"
   },
   {
    "duration": 5,
    "start_time": "2022-08-05T05:23:07.906Z"
   },
   {
    "duration": 12,
    "start_time": "2022-08-05T05:23:07.912Z"
   },
   {
    "duration": 63,
    "start_time": "2022-08-05T05:23:07.926Z"
   },
   {
    "duration": 130,
    "start_time": "2022-08-05T05:23:07.992Z"
   },
   {
    "duration": 64,
    "start_time": "2022-08-05T05:23:08.125Z"
   },
   {
    "duration": 103,
    "start_time": "2022-08-05T05:23:08.191Z"
   },
   {
    "duration": 15,
    "start_time": "2022-08-05T05:23:08.295Z"
   },
   {
    "duration": 232,
    "start_time": "2022-08-05T05:23:08.311Z"
   },
   {
    "duration": 8,
    "start_time": "2022-08-05T05:23:08.544Z"
   },
   {
    "duration": 205,
    "start_time": "2022-08-05T05:23:08.553Z"
   },
   {
    "duration": 122,
    "start_time": "2022-08-05T05:25:08.910Z"
   },
   {
    "duration": 6,
    "start_time": "2022-08-05T05:25:22.006Z"
   }
  ],
  "kernelspec": {
   "display_name": "Python 3",
   "language": "python",
   "name": "python3"
  },
  "language_info": {
   "codemirror_mode": {
    "name": "ipython",
    "version": 3
   },
   "file_extension": ".py",
   "mimetype": "text/x-python",
   "name": "python",
   "nbconvert_exporter": "python",
   "pygments_lexer": "ipython3",
   "version": "3.7.3"
  },
  "toc": {
   "base_numbering": 1,
   "nav_menu": {},
   "number_sections": true,
   "sideBar": true,
   "skip_h1_title": true,
   "title_cell": "Содержание",
   "title_sidebar": "Contents",
   "toc_cell": true,
   "toc_position": {},
   "toc_section_display": true,
   "toc_window_display": true
  }
 },
 "nbformat": 4,
 "nbformat_minor": 2
}
